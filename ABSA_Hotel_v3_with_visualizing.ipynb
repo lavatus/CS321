{
  "nbformat": 4,
  "nbformat_minor": 0,
  "metadata": {
    "colab": {
      "name": "ABSA_Hotel_v3_with_visualizing.ipynb",
      "provenance": [],
      "collapsed_sections": [],
      "include_colab_link": true
    },
    "kernelspec": {
      "name": "python3",
      "display_name": "Python 3"
    },
    "language_info": {
      "name": "python"
    }
  },
  "cells": [
    {
      "cell_type": "markdown",
      "metadata": {
        "id": "view-in-github",
        "colab_type": "text"
      },
      "source": [
        "<a href=\"https://colab.research.google.com/github/lavatus/CS321/blob/main/ABSA_Hotel_v3_with_visualizing.ipynb\" target=\"_parent\"><img src=\"https://colab.research.google.com/assets/colab-badge.svg\" alt=\"Open In Colab\"/></a>"
      ]
    },
    {
      "cell_type": "code",
      "metadata": {
        "id": "Jhh1VtDviF0J"
      },
      "source": [
        "!git clone -q https://github.com/DNThuan/AspectBasedSentimentAnalysis.git\n",
        "!pwd\n",
        "!ls"
      ],
      "execution_count": null,
      "outputs": []
    },
    {
      "cell_type": "markdown",
      "metadata": {
        "id": "gO6AGIoIb_Hh"
      },
      "source": [
        "## 1) Read and visualize data "
      ]
    },
    {
      "cell_type": "markdown",
      "metadata": {
        "id": "U3gk5iKBIoVY"
      },
      "source": [
        "###1.1 Read data"
      ]
    },
    {
      "cell_type": "code",
      "metadata": {
        "id": "0FdGy4VyiYPe"
      },
      "source": [
        "import numpy as np\n",
        "import json\n",
        "import pandas as pd"
      ],
      "execution_count": 2,
      "outputs": []
    },
    {
      "cell_type": "code",
      "metadata": {
        "id": "_tknJtJPTYYr"
      },
      "source": [
        "def read_data(path):\n",
        "  with open(path) as f:\n",
        "    data = f.read().split(\"\\n\\n\")\n",
        "  f.close()\n",
        "  for i in range(len(data)):\n",
        "    temp=data[i].split(\"\\n\")\n",
        "    data[i]=temp[1:3]\n",
        "  return data"
      ],
      "execution_count": 3,
      "outputs": []
    },
    {
      "cell_type": "markdown",
      "metadata": {
        "id": "TCSe1T8ysftr"
      },
      "source": [
        "###1.2 Visualize data"
      ]
    },
    {
      "cell_type": "code",
      "metadata": {
        "id": "BOX7ddHiuM0L"
      },
      "source": [
        "import matplotlib.pyplot as plt"
      ],
      "execution_count": null,
      "outputs": []
    },
    {
      "cell_type": "code",
      "metadata": {
        "id": "6CrlgLr5A16S"
      },
      "source": [
        "colors = ['coral', 'dodgerblue', 'chartreuse']"
      ],
      "execution_count": null,
      "outputs": []
    },
    {
      "cell_type": "markdown",
      "metadata": {
        "id": "y32B3J3_Sg9Z"
      },
      "source": [
        "####1.2.1 Draw a pie"
      ]
    },
    {
      "cell_type": "code",
      "metadata": {
        "id": "sWhirRDPHg8Y"
      },
      "source": [
        "def Draw_Pie(values, labels, name):\n",
        "  plt.pie(values, labels=labels, colors=colors, autopct='%1.1f%%', startangle=90, counterclock=False)\n",
        "  plt.title(name)"
      ],
      "execution_count": 341,
      "outputs": []
    },
    {
      "cell_type": "markdown",
      "metadata": {
        "id": "xE9bIIQXSmnY"
      },
      "source": [
        "####1.2.2 Count the labels"
      ]
    },
    {
      "cell_type": "code",
      "metadata": {
        "id": "zhimZyOGwuk7"
      },
      "source": [
        "def Split_Label_To_Count(labels):\n",
        "  aspects = []\n",
        "  opinions = []\n",
        "  for each_label in labels:\n",
        "    each_label = each_label.replace('{', '')\n",
        "    each_label = each_label.replace('}', '')\n",
        "    each_label = each_label.replace(' ', '')\n",
        "    label_arr = each_label.split(',')\n",
        "    aspect = [label_arr[i] for i in range(len(label_arr)) if i % 2 == 0]\n",
        "    opinion = [label_arr[i] for i in range(len(label_arr)) if i % 2 != 0]\n",
        "    aspects.append(aspect)\n",
        "    opinions.append(opinion)\n",
        "  return aspects, opinions"
      ],
      "execution_count": null,
      "outputs": []
    },
    {
      "cell_type": "code",
      "metadata": {
        "id": "WglWTG4pyH8w"
      },
      "source": [
        "#[positive, neutral, negative] = [0, 0, 0]\n",
        "def Count_Aspect_And_Opinion(aspects, opinions):\n",
        "  dictionary = {}\n",
        "  for each_label_index in range(len(aspects)):\n",
        "    for pos in range(len(aspects[each_label_index])):\n",
        "      if opinions[each_label_index][pos] == 'positive':\n",
        "        index = 0\n",
        "      elif opinions[each_label_index][pos] == 'neutral':\n",
        "        index = 1\n",
        "      else: \n",
        "        index = 2\n",
        "      aspect = aspects[each_label_index][pos]\n",
        "      if aspect not in dictionary.keys():\n",
        "        dictionary[aspect] = [0, 0, 0]\n",
        "      dictionary[aspect][index] += 1\n",
        "  return dictionary"
      ],
      "execution_count": null,
      "outputs": []
    },
    {
      "cell_type": "markdown",
      "metadata": {
        "id": "xH8Jk-1aS0S5"
      },
      "source": [
        "####1.2.3 Labels statistics"
      ]
    },
    {
      "cell_type": "code",
      "metadata": {
        "id": "yambXBb4KXcH"
      },
      "source": [
        "def Convert_Labels_To_Dictionary(targets):\n",
        "  aspect, polarity = Split_Label_To_Count(targets)\n",
        "  dictionary = Count_Aspect_And_Opinion(aspect, polarity)\n",
        "  return dictionary"
      ],
      "execution_count": 334,
      "outputs": []
    },
    {
      "cell_type": "code",
      "metadata": {
        "id": "W-PY0BgcK-B3"
      },
      "source": [
        "def Count_Number_Of_Occurrences(targets, name):\n",
        "  dictionary = Convert_Labels_To_Dictionary(targets)\n",
        "  occurrences = [sum(item) for item in dictionary.values()]\n",
        "  min_value = min(occurrences)\n",
        "  max_value = max(occurrences)\n",
        "  labels = list(dictionary.keys())\n",
        "  plt.figure(figsize=(15, 15))\n",
        "  plt.xlim(0, max_value)\n",
        "  plt.barh(labels, occurrences, color=colors, height=0.5)\n",
        "  plt.ylabel(\"Aspect\")\n",
        "  plt.xlabel('Occurrences')\n",
        "  plt.title(name)\n",
        "  plt.show()\n",
        "  print(\"Label\",labels[occurrences.index(min(occurrences))],\"with min occurrences\", min_value)\n",
        "  print(\"Label\",labels[occurrences.index(max(occurrences))],\"with max occurrences\", max_value)"
      ],
      "execution_count": 330,
      "outputs": []
    },
    {
      "cell_type": "markdown",
      "metadata": {
        "id": "RI0ZASoFTFM0"
      },
      "source": [
        "####1.2.4 Opinion Polary statistics"
      ]
    },
    {
      "cell_type": "code",
      "metadata": {
        "id": "HT5QuKrMGK7f"
      },
      "source": [
        "def Count_The_Opinion_Polarity(dictionary, index):\n",
        "  count = 0\n",
        "  for item in dictionary.values():\n",
        "    count += item[index]\n",
        "  return count"
      ],
      "execution_count": 350,
      "outputs": []
    },
    {
      "cell_type": "code",
      "metadata": {
        "id": "RXTSJWGZScPh"
      },
      "source": [
        "def Count_Number_Of_Polarity(targets, name):\n",
        "  dictionary = Convert_Labels_To_Dictionary(targets)\n",
        "  count_pos = Count_The_Opinion_Polarity(dictionary, 0)\n",
        "  count_neu = Count_The_Opinion_Polarity(dictionary, 1)\n",
        "  count_neg = Count_The_Opinion_Polarity(dictionary, 2)\n",
        "  opinion_polarity = [count_pos, count_neu, count_neg]\n",
        "  polarity_lables = ['positive', 'neutral', 'negative']\n",
        "  Draw_Pie(opinion_polarity, polarity_lables, name)"
      ],
      "execution_count": 351,
      "outputs": []
    },
    {
      "cell_type": "markdown",
      "metadata": {
        "id": "VoygYsSrcDnl"
      },
      "source": [
        "#2) Preprocessing data"
      ]
    },
    {
      "cell_type": "code",
      "metadata": {
        "colab": {
          "base_uri": "https://localhost:8080/"
        },
        "id": "cc1S6cz0g7i1",
        "outputId": "b0533642-0419-41b2-9f7d-1f5e1614a058"
      },
      "source": [
        "!pip install -q emoji\n"
      ],
      "execution_count": 4,
      "outputs": [
        {
          "output_type": "stream",
          "name": "stdout",
          "text": [
            "\u001b[?25l\r\u001b[K     |██                              | 10 kB 24.7 MB/s eta 0:00:01\r\u001b[K     |███▉                            | 20 kB 25.8 MB/s eta 0:00:01\r\u001b[K     |█████▉                          | 30 kB 28.6 MB/s eta 0:00:01\r\u001b[K     |███████▊                        | 40 kB 31.0 MB/s eta 0:00:01\r\u001b[K     |█████████▋                      | 51 kB 33.8 MB/s eta 0:00:01\r\u001b[K     |███████████▋                    | 61 kB 34.9 MB/s eta 0:00:01\r\u001b[K     |█████████████▌                  | 71 kB 31.8 MB/s eta 0:00:01\r\u001b[K     |███████████████▍                | 81 kB 32.3 MB/s eta 0:00:01\r\u001b[K     |█████████████████▍              | 92 kB 32.6 MB/s eta 0:00:01\r\u001b[K     |███████████████████▎            | 102 kB 27.1 MB/s eta 0:00:01\r\u001b[K     |█████████████████████▏          | 112 kB 27.1 MB/s eta 0:00:01\r\u001b[K     |███████████████████████▏        | 122 kB 27.1 MB/s eta 0:00:01\r\u001b[K     |█████████████████████████       | 133 kB 27.1 MB/s eta 0:00:01\r\u001b[K     |███████████████████████████     | 143 kB 27.1 MB/s eta 0:00:01\r\u001b[K     |█████████████████████████████   | 153 kB 27.1 MB/s eta 0:00:01\r\u001b[K     |██████████████████████████████▉ | 163 kB 27.1 MB/s eta 0:00:01\r\u001b[K     |████████████████████████████████| 170 kB 27.1 MB/s \n",
            "\u001b[?25h  Building wheel for emoji (setup.py) ... \u001b[?25l\u001b[?25hdone\n"
          ]
        }
      ]
    },
    {
      "cell_type": "code",
      "metadata": {
        "id": "f7zdCPG7g4s9"
      },
      "source": [
        "from sklearn.preprocessing import  FunctionTransformer\n",
        "import emoji\n",
        "import re"
      ],
      "execution_count": 5,
      "outputs": []
    },
    {
      "cell_type": "markdown",
      "metadata": {
        "id": "zKm0ffl9j11w"
      },
      "source": [
        "## 2.1 Review data"
      ]
    },
    {
      "cell_type": "code",
      "metadata": {
        "id": "BKY2fmH4yqCh"
      },
      "source": [
        "def Lower_text(texts):\n",
        "\n",
        "  for i in range(len(texts)):\n",
        "    texts[i]=texts[i].lower()\n",
        "  return texts\n",
        "lower_text = FunctionTransformer(Lower_text)"
      ],
      "execution_count": 6,
      "outputs": []
    },
    {
      "cell_type": "markdown",
      "metadata": {
        "id": "l9tCv_allrO9"
      },
      "source": [
        "### 2.1.1 Delete emoji"
      ]
    },
    {
      "cell_type": "code",
      "metadata": {
        "id": "m85xFJgmkg1l"
      },
      "source": [
        "def Delete_emoji(texts):\n",
        "    return np.array([emoji.get_emoji_regexp().sub('', text) for text in texts])\n",
        "\n",
        "delete_emoji = FunctionTransformer(Delete_emoji)"
      ],
      "execution_count": 7,
      "outputs": []
    },
    {
      "cell_type": "markdown",
      "metadata": {
        "id": "RvN1ij13muYn"
      },
      "source": [
        "### 2.1.2 Replace value of money by special character"
      ]
    },
    {
      "cell_type": "code",
      "metadata": {
        "id": "YmGl47x8mttE"
      },
      "source": [
        "def Replace_Symbol(texts):\n",
        "  texts_result = []\n",
        "  for text in texts:\n",
        "    distance_pattern = \"([0-9.,]{1,9}?.km)|([0-9.,]{1,9}?.cây số)|([0-9.,]{1,9}?.cây)|([0-9.,]{1,9}?.mét)|([0-9.,]{1,3}?.m)\"\n",
        "    text_result = re.sub(distance_pattern, 'khoang_cach', text)\n",
        "    money_pattern = \"(\\d{1,3}k.{0})|([0-9.]{1,9}?.vnd)|([0-9.]{1,9}?.việt nam đồng)|([0-9.]{1,9}?.đồng)\"\n",
        "    text_result = re.sub(money_pattern, 'gia_tien', text_result)\n",
        "    texts_result.append(text_result)\n",
        "  return texts_result\n",
        "replace_symbol = FunctionTransformer(Replace_Symbol)"
      ],
      "execution_count": 8,
      "outputs": []
    },
    {
      "cell_type": "markdown",
      "metadata": {
        "id": "41DN85JiphwB"
      },
      "source": [
        "### 2.1.3 Delete special character"
      ]
    },
    {
      "cell_type": "code",
      "metadata": {
        "id": "5HzCKKYIpr4E"
      },
      "source": [
        "def Delete_Special_Character(texts):\n",
        "  texts_result = []\n",
        "  for text in texts:\n",
        "    special_character_pattern = \"[+=<>@#$%^&~]\"\n",
        "    text_result = re.sub(special_character_pattern, '', text)\n",
        "    words = text_result.split()\n",
        "    text_result = ' '.join(words)\n",
        "    texts_result.append(text_result)\n",
        "  return texts_result\n",
        "delete_special_character = FunctionTransformer(Delete_Special_Character)"
      ],
      "execution_count": 9,
      "outputs": []
    },
    {
      "cell_type": "markdown",
      "metadata": {
        "id": "3yUljmyDqwC1"
      },
      "source": [
        "### 2.1.4 Normalize elongate words"
      ]
    },
    {
      "cell_type": "code",
      "metadata": {
        "id": "-GuY4xhrqxG7"
      },
      "source": [
        "def Normalize_Elongate_Words(texts):\n",
        "  texts_result = []\n",
        "  for text in texts:\n",
        "    elongate_pattern = r\"(\\w)\\1*\"\n",
        "    text_result = re.sub(elongate_pattern, r'\\1', text)\n",
        "    texts_result.append(text_result)\n",
        "  return texts_result\n",
        "normalize_elongate_words = FunctionTransformer(Normalize_Elongate_Words)"
      ],
      "execution_count": 10,
      "outputs": []
    },
    {
      "cell_type": "markdown",
      "metadata": {
        "id": "rxltn5RxrqOG"
      },
      "source": [
        "### 2.1.5 Replace negative words"
      ]
    },
    {
      "cell_type": "code",
      "metadata": {
        "id": "pNvzfzCarBLy"
      },
      "source": [
        "\n",
        "def Replace_Negative_Words(texts):\n",
        "  texts_result = []\n",
        "  for text in texts:\n",
        "\n",
        "    hotel_pattern = r\"\\bksạn\\b|\\bk sạn\\b|\\bks\\b|\\bKS\\b|\\bKs\\b\"\n",
        "    new = re.sub(hotel_pattern, 'khách sạn', text)\n",
        "    new = re.sub(r\"\\bnc\\b\", 'nước', new)\n",
        "    new = re.sub(r\"\\bnvs\\b|\\bnhà vs\\b\", 'nhà vệ sinh', new)\n",
        "    new = re.sub(r\"\\bnv\\b\", 'nhân viên', new)\n",
        "    new = re.sub(r\"\\bvs\\b\", 'vệ sinh', new)\n",
        "    \n",
        "    negative_pattern = r\"\\bkh\\b|\\bko\\b|\\bkhg\\b|\\bkhong\\b|\\bk\\b|\\bhông\\b|\\bhem\\b|\\bk0\\b\"\n",
        "    new = re.sub(negative_pattern, 'không', new)\n",
        "    new = re.sub(r\"\\bdc\\b|\\bdk\\b\", 'được', new)\n",
        "\n",
        "    new = re.sub(r\" 1 \", \" một \", new)\n",
        "\n",
        "    texts_result.append(new)\n",
        "  return texts_result\n",
        "replace_negative_words = FunctionTransformer(Replace_Negative_Words)"
      ],
      "execution_count": 11,
      "outputs": []
    },
    {
      "cell_type": "markdown",
      "metadata": {
        "id": "F8gYljq2LceO"
      },
      "source": [
        "### 2.1.6 Pos tagging"
      ]
    },
    {
      "cell_type": "code",
      "metadata": {
        "colab": {
          "base_uri": "https://localhost:8080/"
        },
        "id": "ACYqYn03NblJ",
        "outputId": "77b137fe-759c-4944-8864-1d6c05dc781e"
      },
      "source": [
        "!pip install pyvi\n",
        "from pyvi import ViTokenizer, ViPosTagger"
      ],
      "execution_count": 12,
      "outputs": [
        {
          "output_type": "stream",
          "name": "stdout",
          "text": [
            "Collecting pyvi\n",
            "  Downloading pyvi-0.1.1-py2.py3-none-any.whl (8.5 MB)\n",
            "\u001b[K     |████████████████████████████████| 8.5 MB 31.1 MB/s \n",
            "\u001b[?25hCollecting sklearn-crfsuite\n",
            "  Downloading sklearn_crfsuite-0.3.6-py2.py3-none-any.whl (12 kB)\n",
            "Requirement already satisfied: scikit-learn in /usr/local/lib/python3.7/dist-packages (from pyvi) (1.0.1)\n",
            "Requirement already satisfied: joblib>=0.11 in /usr/local/lib/python3.7/dist-packages (from scikit-learn->pyvi) (1.1.0)\n",
            "Requirement already satisfied: scipy>=1.1.0 in /usr/local/lib/python3.7/dist-packages (from scikit-learn->pyvi) (1.4.1)\n",
            "Requirement already satisfied: threadpoolctl>=2.0.0 in /usr/local/lib/python3.7/dist-packages (from scikit-learn->pyvi) (3.0.0)\n",
            "Requirement already satisfied: numpy>=1.14.6 in /usr/local/lib/python3.7/dist-packages (from scikit-learn->pyvi) (1.19.5)\n",
            "Requirement already satisfied: six in /usr/local/lib/python3.7/dist-packages (from sklearn-crfsuite->pyvi) (1.15.0)\n",
            "Requirement already satisfied: tqdm>=2.0 in /usr/local/lib/python3.7/dist-packages (from sklearn-crfsuite->pyvi) (4.62.3)\n",
            "Collecting python-crfsuite>=0.8.3\n",
            "  Downloading python_crfsuite-0.9.7-cp37-cp37m-manylinux1_x86_64.whl (743 kB)\n",
            "\u001b[K     |████████████████████████████████| 743 kB 49.1 MB/s \n",
            "\u001b[?25hRequirement already satisfied: tabulate in /usr/local/lib/python3.7/dist-packages (from sklearn-crfsuite->pyvi) (0.8.9)\n",
            "Installing collected packages: python-crfsuite, sklearn-crfsuite, pyvi\n",
            "Successfully installed python-crfsuite-0.9.7 pyvi-0.1.1 sklearn-crfsuite-0.3.6\n"
          ]
        }
      ]
    },
    {
      "cell_type": "code",
      "metadata": {
        "id": "QhQGxCgDAq4y"
      },
      "source": [
        "def Tiken_Postag(texts):\n",
        "  result = []\n",
        "  for text in texts:\n",
        "    postag =  ViPosTagger.postagging(ViTokenizer.tokenize(text))\n",
        "    result.append(postag)\n",
        "  return np.array(result,dtype=object)\n",
        "token_postag = FunctionTransformer(Tiken_Postag)"
      ],
      "execution_count": 13,
      "outputs": []
    },
    {
      "cell_type": "markdown",
      "metadata": {
        "id": "ShEHUVV6sxrm"
      },
      "source": [
        "## 2.2 Tag data"
      ]
    },
    {
      "cell_type": "markdown",
      "metadata": {
        "id": "kL7UZhs6s2n3"
      },
      "source": [
        "### 2.2.1 Label separation"
      ]
    },
    {
      "cell_type": "code",
      "metadata": {
        "id": "sYaU70BJs6bw"
      },
      "source": [
        "# Input: một nhãn dạng string\n",
        "def find_start_end(label):\n",
        "  start = 0\n",
        "  end = 0\n",
        "  lst_start=[]\n",
        "  lst_end=[]\n",
        "  for index ,char in enumerate(label):\n",
        "    if char == \"{\":\n",
        "      start = index\n",
        "      lst_start.append(start)\n",
        "    elif char == \"}\":\n",
        "      end = index\n",
        "      lst_end.append(end)\n",
        "  return tuple(zip(lst_start,lst_end))"
      ],
      "execution_count": 14,
      "outputs": []
    },
    {
      "cell_type": "code",
      "metadata": {
        "id": "l9ATiZJ2iLW-"
      },
      "source": [
        "def Label_to_ListDict(labels):\n",
        "  list_dict_label = list()\n",
        "  for label in labels:\n",
        "    lst = []\n",
        "    index = tuple(find_start_end(label))\n",
        "    for i in index:\n",
        "      dict_label = dict()\n",
        "      aspect, polarity = label[i[0]+1:i[1]].replace(\" \",\"\").split(\",\")\n",
        "      dict_label[aspect] = polarity\n",
        "      lst.append(dict_label)\n",
        "    list_dict_label.append(lst)\n",
        "  return list_dict_label"
      ],
      "execution_count": 15,
      "outputs": []
    },
    {
      "cell_type": "code",
      "metadata": {
        "id": "ik5kCzY1LFCu"
      },
      "source": [
        "def Label_str_to_list(label):\n",
        "  index = tuple(find_start_end(label))\n",
        "  aspect_temp=[]\n",
        "  polarity_temp=[]\n",
        "  for i in index:\n",
        "    temp = label[i[0]+1:i[1]].replace(\" \",\"\").split(\",\")\n",
        "    aspect_temp.append(temp[0])\n",
        "    polarity_temp.append(temp[1])\n",
        "  return aspect_temp, polarity_temp"
      ],
      "execution_count": 16,
      "outputs": []
    },
    {
      "cell_type": "code",
      "metadata": {
        "id": "hbAbh3W4JVKP"
      },
      "source": [
        "def separate_label(labels):\n",
        "  aspect= []\n",
        "  polarity = []\n",
        "  SA = []\n",
        "  for label in labels:\n",
        "    temp = Label_str_to_list(label)\n",
        "    aspect.append(temp[0])\n",
        "    polarity.append(temp[1])\n",
        "\n",
        "    sa_temp= []\n",
        "    for i in range(len(temp[0])):\n",
        "      sa = \"{\"+temp[0][i]+\", \"+temp[1][i]+\"}\"\n",
        "      sa_temp.append(sa)\n",
        "    SA.append(sa_temp)\n",
        "\n",
        "  return np.array(aspect, dtype=object), np.array(polarity, dtype=object), np.array(SA, dtype=object)"
      ],
      "execution_count": 17,
      "outputs": []
    },
    {
      "cell_type": "markdown",
      "metadata": {
        "id": "c8YvF51t6z5T"
      },
      "source": [
        "### 2.2.2 Binary Label"
      ]
    },
    {
      "cell_type": "code",
      "metadata": {
        "id": "XO5FGIhIHECy"
      },
      "source": [
        "# Load list label\n",
        "\n",
        "def read_label(path):\n",
        "  with open(path) as f:\n",
        "    data = json.load(f)\n",
        "  f.close()\n",
        "  return data\n",
        "\n",
        "aspect_path = \"/content/AspectBasedSentimentAnalysis/Label/aspect.json\"\n",
        "SA_path = \"/content/AspectBasedSentimentAnalysis/Label/SA.json\"\n",
        "aspect_labels = read_label(aspect_path)\n",
        "AS_labels = read_label(SA_path)"
      ],
      "execution_count": 18,
      "outputs": []
    },
    {
      "cell_type": "code",
      "metadata": {
        "colab": {
          "base_uri": "https://localhost:8080/"
        },
        "id": "QTMDQnX3YakY",
        "outputId": "468175d8-97b7-4958-e37d-58cd008159ec"
      },
      "source": [
        "from sklearn.preprocessing import MultiLabelBinarizer,StandardScaler\n",
        "transform_label= MultiLabelBinarizer().fit([aspect_labels])\n",
        "list_label = transform_label.classes_\n",
        "print(list_label)"
      ],
      "execution_count": 19,
      "outputs": [
        {
          "output_type": "stream",
          "name": "stdout",
          "text": [
            "['FACILITIES#CLEANLINESS' 'FACILITIES#COMFORT'\n",
            " 'FACILITIES#DESIGN&FEATURES' 'FACILITIES#GENERAL'\n",
            " 'FACILITIES#MISCELLANEOUS' 'FACILITIES#PRICES' 'FACILITIES#QUALITY'\n",
            " 'FOOD&DRINKS#MISCELLANEOUS' 'FOOD&DRINKS#PRICES' 'FOOD&DRINKS#QUALITY'\n",
            " 'FOOD&DRINKS#STYLE&OPTIONS' 'HOTEL#CLEANLINESS' 'HOTEL#COMFORT'\n",
            " 'HOTEL#DESIGN&FEATURES' 'HOTEL#GENERAL' 'HOTEL#MISCELLANEOUS'\n",
            " 'HOTEL#PRICES' 'HOTEL#QUALITY' 'LOCATION#GENERAL' 'ROOMS#CLEANLINESS'\n",
            " 'ROOMS#COMFORT' 'ROOMS#DESIGN&FEATURES' 'ROOMS#GENERAL'\n",
            " 'ROOMS#MISCELLANEOUS' 'ROOMS#PRICES' 'ROOMS#QUALITY'\n",
            " 'ROOM_AMENITIES#CLEANLINESS' 'ROOM_AMENITIES#COMFORT'\n",
            " 'ROOM_AMENITIES#DESIGN&FEATURES' 'ROOM_AMENITIES#GENERAL'\n",
            " 'ROOM_AMENITIES#MISCELLANEOUS' 'ROOM_AMENITIES#PRICES'\n",
            " 'ROOM_AMENITIES#QUALITY' 'SERVICE#GENERAL']\n"
          ]
        }
      ]
    },
    {
      "cell_type": "code",
      "metadata": {
        "id": "NmVXpvCG9TFj"
      },
      "source": [
        "transform_label_SA= MultiLabelBinarizer().fit([AS_labels])\n",
        "#print(transform_label_SA.classes_)"
      ],
      "execution_count": 20,
      "outputs": []
    },
    {
      "cell_type": "code",
      "metadata": {
        "id": "JhuyKdwCBwR_"
      },
      "source": [
        "def show_label_aspect(pred_aspect,list_label):\n",
        "  labels = []\n",
        "  for pre in pred_aspect:\n",
        "    temp = []\n",
        "    for i, value in enumerate(pre):\n",
        "      if value == 1:\n",
        "        temp.append(list_label[i])\n",
        "    labels.append(temp)\n",
        "  return labels"
      ],
      "execution_count": 21,
      "outputs": []
    },
    {
      "cell_type": "code",
      "metadata": {
        "id": "JY1hxLnr3aJK"
      },
      "source": [
        "def show_label_SA(pred_as, pred_pos, pred_neg, pred_neu):\n",
        "  labels = []\n",
        "  for index, value in enumerate(pred_as):\n",
        "    if value == 1:\n",
        "      label = \"{\"\n",
        "      if pred_pos[index] ==1:\n",
        "        label += str(list_label[index])+\", \"+\"positive\"\n",
        "      elif pred_neg[index] ==1:\n",
        "        label += str(list_label[index])+\", \"+\"negative\"\n",
        "      elif pred_neu[index] ==1:\n",
        "        label += str(list_label[index])+\", \"+\"neutral\"\n",
        "      label+=\"}\"\n",
        "      labels.append(label)\n",
        "  return labels"
      ],
      "execution_count": 22,
      "outputs": []
    },
    {
      "cell_type": "markdown",
      "metadata": {
        "id": "pluBIDvrXmwr"
      },
      "source": [
        "## 2.3 Make dataFrame"
      ]
    },
    {
      "cell_type": "code",
      "metadata": {
        "id": "K-M_oO_5HsY3"
      },
      "source": [
        "\n",
        "def data_Frame(label_y):\n",
        "  aspect, polarity,_ =  separate_label(label_y)\n",
        "  dic = Label_to_ListDict(label_y)\n",
        "  aspect_tf = transform_label.transform(aspect)\n",
        "\n",
        "  for index1,label in enumerate(aspect_tf):\n",
        "    count = 0\n",
        "    for index2,a in enumerate(label):\n",
        "      if a == 1:\n",
        "        if polarity[index1][count] == \"positive\":\n",
        "          aspect_tf[index1][index2] = 10\n",
        "         \n",
        "        elif polarity[index1][count] == \"negative\":\n",
        "          aspect_tf[index1][index2] = 20\n",
        "    \n",
        "        else:\n",
        "          aspect_tf[index1][index2] = 30\n",
        "        count+=1\n",
        "\n",
        "  return aspect_tf"
      ],
      "execution_count": 23,
      "outputs": []
    },
    {
      "cell_type": "code",
      "metadata": {
        "id": "AI4aVv59WRho"
      },
      "source": [
        "def make_data_frame(texts,labels,list_label):\n",
        "  data = {\"Review\":texts}\n",
        "  df = pd.DataFrame(data)\n",
        "\n",
        "  label = data_Frame(labels)\n",
        "  for i in range(len(aspect_labels)):\n",
        "    new_col = label[:,i]\n",
        "    df[transform_label.classes_[i]] = new_col.tolist()\n",
        "  return df"
      ],
      "execution_count": 24,
      "outputs": []
    },
    {
      "cell_type": "markdown",
      "metadata": {
        "id": "f3_0psLbXyYH"
      },
      "source": [
        "### 2.3.1 Aspect dataFrame"
      ]
    },
    {
      "cell_type": "code",
      "metadata": {
        "id": "goC8td1nxvFF"
      },
      "source": [
        "def get_aspect_data_frame(df,list_label):\n",
        "    df_ =df.copy()\n",
        "    for aspect in aspect_labels:\n",
        "        df_[aspect]=df_[aspect].replace(10,1)\n",
        "        df_[aspect]=df_[aspect].replace(20,1)\n",
        "        df_[aspect]=df_[aspect].replace(30,1)\n",
        "    df_ = df_.fillna(0)\n",
        "    return df_"
      ],
      "execution_count": 25,
      "outputs": []
    },
    {
      "cell_type": "markdown",
      "metadata": {
        "id": "Rz9sb5SOX4tP"
      },
      "source": [
        "### 2.3.2 Positive dataFrame"
      ]
    },
    {
      "cell_type": "code",
      "metadata": {
        "id": "2yX6uXBn6xlB"
      },
      "source": [
        "def get_positive_data_frame(df,list_label):\n",
        "    df_ =df.copy()\n",
        "    for aspect in aspect_labels:\n",
        "        df_[aspect]=df_[aspect].replace(10,1)\n",
        "        df_[aspect]=df_[aspect].replace(20,0)\n",
        "        df_[aspect]=df_[aspect].replace(30,0)\n",
        "    df_ = df_.fillna(0)\n",
        "    return df_"
      ],
      "execution_count": 26,
      "outputs": []
    },
    {
      "cell_type": "markdown",
      "metadata": {
        "id": "oiYy2eYQX4Gu"
      },
      "source": [
        "### 2.3.3 Negative dataFrame"
      ]
    },
    {
      "cell_type": "code",
      "metadata": {
        "id": "RoFGVqU-6xnB"
      },
      "source": [
        "def get_negative_data_frame(df,list_label):\n",
        "    df_ =df.copy()\n",
        "    for aspect in aspect_labels:\n",
        "        df_[aspect]=df_[aspect].replace(10,0)\n",
        "        df_[aspect]=df_[aspect].replace(20,1)\n",
        "        df_[aspect]=df_[aspect].replace(30,0)\n",
        "    df_ = df_.fillna(0)\n",
        "    return df_"
      ],
      "execution_count": 27,
      "outputs": []
    },
    {
      "cell_type": "markdown",
      "metadata": {
        "id": "glPtzxf4X_0S"
      },
      "source": [
        "### 2.3.4 Neutral dataFrame"
      ]
    },
    {
      "cell_type": "code",
      "metadata": {
        "id": "b6Sy7uy162Ha"
      },
      "source": [
        "def get_neutral_data_frame(df,list_label):\n",
        "    df_ =df.copy()\n",
        "    for aspect in aspect_labels:\n",
        "        df_[aspect]=df_[aspect].replace(10,0)\n",
        "        df_[aspect]=df_[aspect].replace(20,0)\n",
        "        df_[aspect]=df_[aspect].replace(30,1)\n",
        "    df_ = df_.fillna(0)\n",
        "    return df_"
      ],
      "execution_count": 28,
      "outputs": []
    },
    {
      "cell_type": "code",
      "metadata": {
        "id": "18ik68Om9sF5"
      },
      "source": [
        "def getdata(df,list_label,kind):\n",
        "  if kind == \"aspect\":\n",
        "    data = get_aspect_data_frame(df,list_label)\n",
        "  elif kind == \"positive\":\n",
        "    data= get_positive_data_frame(df,list_label)\n",
        "  elif kind ==\"negative\":\n",
        "    data = get_negative_data_frame(df,list_label)\n",
        "  elif kind ==\"neutral\":\n",
        "    data = get_neutral_data_frame(df,list_label)  \n",
        "\n",
        "  X = data.Review\n",
        "  y = data.drop(\"Review\",1)\n",
        "  return X,y"
      ],
      "execution_count": 29,
      "outputs": []
    },
    {
      "cell_type": "markdown",
      "metadata": {
        "id": "3YXfZoru5yD4"
      },
      "source": [
        "# 3) Training"
      ]
    },
    {
      "cell_type": "code",
      "metadata": {
        "id": "cBL9BSXOn-EU"
      },
      "source": [
        "from sklearn.pipeline import make_pipeline\n",
        "from sklearn.feature_extraction.text import TfidfVectorizer"
      ],
      "execution_count": 30,
      "outputs": []
    },
    {
      "cell_type": "markdown",
      "metadata": {
        "id": "y3-g3AyHY0nR"
      },
      "source": [
        "## 3.1 Get data"
      ]
    },
    {
      "cell_type": "code",
      "metadata": {
        "colab": {
          "base_uri": "https://localhost:8080/"
        },
        "id": "m1omtbZ7TZan",
        "outputId": "ff062b1a-1547-471e-8d53-03dd97a02484"
      },
      "source": [
        "path_train = \"/content/AspectBasedSentimentAnalysis/VLSP2018_SA_Hotel/1-VLSP2018-SA-Hotel-train (7-3-2018).txt\"\n",
        "path_dev =  \"/content/AspectBasedSentimentAnalysis/VLSP2018_SA_Hotel/2-VLSP2018-SA-Hotel-dev (7-3-2018).txt\"\n",
        "path_test = \"/content/AspectBasedSentimentAnalysis/VLSP2018_SA_Hotel/3-VLSP2018-SA-Hotel-test (8-3-2018).txt\"\n",
        "\n",
        "train = np.array(read_data(path_train))\n",
        "dev = np.array(read_data(path_dev))\n",
        "test = np.array(read_data(path_test))\n",
        "\n",
        "print(\"Train: \",train.shape)\n",
        "print(\"Dev: \",dev.shape)\n",
        "print(\"Test: \",test.shape)\n"
      ],
      "execution_count": 56,
      "outputs": [
        {
          "output_type": "stream",
          "name": "stdout",
          "text": [
            "Train:  (3000, 2)\n",
            "Dev:  (2000, 2)\n",
            "Test:  (600, 2)\n"
          ]
        }
      ]
    },
    {
      "cell_type": "code",
      "metadata": {
        "id": "tvkjQtzoX3QX"
      },
      "source": [
        "X_train, y_train = train[:,0], train[:,1]\n",
        "X_dev,   y_dev   = dev[:,0],   dev[:,1]\n",
        "X_test,  y_test  = test[:,0],  test[:,1]"
      ],
      "execution_count": 57,
      "outputs": []
    },
    {
      "cell_type": "markdown",
      "metadata": {
        "id": "gBeeGcN4vAtO"
      },
      "source": [
        "##3.2 Visualizing data"
      ]
    },
    {
      "cell_type": "markdown",
      "metadata": {
        "id": "6dAbH9_vEGB-"
      },
      "source": [
        "###3.2.1 The train-dev-test size"
      ]
    },
    {
      "cell_type": "code",
      "metadata": {
        "id": "lY43yOY-t3Fu"
      },
      "source": [
        "size = [X_train.shape[0], X_dev.shape[0], X_test.shape[0]]\n",
        "labels = ['Train', 'Dev', 'Test']"
      ],
      "execution_count": 273,
      "outputs": []
    },
    {
      "cell_type": "code",
      "metadata": {
        "colab": {
          "base_uri": "https://localhost:8080/",
          "height": 264
        },
        "id": "xEtju7VEJR4A",
        "outputId": "e07312b8-6446-4647-90a5-cd70a1a49074"
      },
      "source": [
        "Draw_Pie(size, labels, \"Size of data\")"
      ],
      "execution_count": 342,
      "outputs": [
        {
          "output_type": "display_data",
          "data": {
            "image/png": "[encoded data removed]",
            "text/plain": [
              "<Figure size 432x288 with 1 Axes>"
            ]
          },
          "metadata": {}
        }
      ]
    },
    {
      "cell_type": "markdown",
      "metadata": {
        "id": "VRfAjpqADy-G"
      },
      "source": [
        "###3.2.2 Number of occurrences of each aspects"
      ]
    },
    {
      "cell_type": "code",
      "metadata": {
        "colab": {
          "base_uri": "https://localhost:8080/",
          "height": 772
        },
        "id": "Vz4ghAO9Ng8p",
        "outputId": "21620af3-5bf5-4b26-d154-b5d5809bab69"
      },
      "source": [
        "Count_Number_Of_Occurrences(y_train, \"Y_train\")"
      ],
      "execution_count": 343,
      "outputs": [
        {
          "output_type": "display_data",
          "data": {
            "image/png": "[encoded data removed]",
            "text/plain": [
              "<Figure size 1080x1080 with 1 Axes>"
            ]
          },
          "metadata": {
            "needs_background": "light"
          }
        },
        {
          "output_type": "stream",
          "name": "stdout",
          "text": [
            "Label ROOM_AMENITIES#MISCELLANEOUS with min occurrences 3\n",
            "Label SERVICE#GENERAL with max occurrences 1912\n"
          ]
        }
      ]
    },
    {
      "cell_type": "code",
      "metadata": {
        "colab": {
          "base_uri": "https://localhost:8080/",
          "height": 772
        },
        "id": "32rPg7ieSQ2V",
        "outputId": "6a4d00fc-8c18-4c6c-d9a0-3a72fadfed38"
      },
      "source": [
        "Count_Number_Of_Occurrences(y_dev, \"Y_dev\")"
      ],
      "execution_count": 344,
      "outputs": [
        {
          "output_type": "display_data",
          "data": {
            "image/png": "[encoded data removed]",
            "text/plain": [
              "<Figure size 1080x1080 with 1 Axes>"
            ]
          },
          "metadata": {
            "needs_background": "light"
          }
        },
        {
          "output_type": "stream",
          "name": "stdout",
          "text": [
            "Label ROOM_AMENITIES#MISCELLANEOUS with min occurrences 3\n",
            "Label SERVICE#GENERAL with max occurrences 1311\n"
          ]
        }
      ]
    },
    {
      "cell_type": "code",
      "metadata": {
        "colab": {
          "base_uri": "https://localhost:8080/",
          "height": 772
        },
        "id": "oZfmLMGHSTIZ",
        "outputId": "016d2b15-8a5f-43d6-b6ec-6174b8be3b6f"
      },
      "source": [
        "Count_Number_Of_Occurrences(y_test, \"Y_test\")"
      ],
      "execution_count": 345,
      "outputs": [
        {
          "output_type": "display_data",
          "data": {
            "image/png": "[encoded data removed]",
            "text/plain": [
              "<Figure size 1080x1080 with 1 Axes>"
            ]
          },
          "metadata": {
            "needs_background": "light"
          }
        },
        {
          "output_type": "stream",
          "name": "stdout",
          "text": [
            "Label ROOM_AMENITIES#PRICES with min occurrences 1\n",
            "Label SERVICE#GENERAL with max occurrences 416\n"
          ]
        }
      ]
    },
    {
      "cell_type": "markdown",
      "metadata": {
        "id": "HMEO04VUE9Sv"
      },
      "source": [
        "###3.2.3 The proportion of the opinion polarity"
      ]
    },
    {
      "cell_type": "code",
      "metadata": {
        "colab": {
          "base_uri": "https://localhost:8080/",
          "height": 264
        },
        "id": "hXVmWtJofEn7",
        "outputId": "53214b98-0063-4d58-d043-a8d018457a63"
      },
      "source": [
        "Count_Number_Of_Polarity(y_train, \"Polary Proportion in Train data\")"
      ],
      "execution_count": 347,
      "outputs": [
        {
          "output_type": "display_data",
          "data": {
            "image/png": "[encoded data removed]",
            "text/plain": [
              "<Figure size 432x288 with 1 Axes>"
            ]
          },
          "metadata": {}
        }
      ]
    },
    {
      "cell_type": "code",
      "metadata": {
        "colab": {
          "base_uri": "https://localhost:8080/",
          "height": 264
        },
        "id": "RgKWerJYggHM",
        "outputId": "bd295af6-f066-47a1-c8e4-d31fa95e3242"
      },
      "source": [
        "Count_Number_Of_Polarity(y_dev, \"Polary Proportion in Dev data\")"
      ],
      "execution_count": 348,
      "outputs": [
        {
          "output_type": "display_data",
          "data": {
            "image/png": "[encoded data removed]",
            "text/plain": [
              "<Figure size 432x288 with 1 Axes>"
            ]
          },
          "metadata": {}
        }
      ]
    },
    {
      "cell_type": "code",
      "metadata": {
        "colab": {
          "base_uri": "https://localhost:8080/",
          "height": 264
        },
        "id": "Rx6xu2GNgiq7",
        "outputId": "c51d1790-2f3c-4239-cc24-f61af5de7d87"
      },
      "source": [
        "Count_Number_Of_Polarity(y_test, \"Polary Proportion in Test data\")"
      ],
      "execution_count": 349,
      "outputs": [
        {
          "output_type": "display_data",
          "data": {
            "image/png": "[encoded data removed]",
            "text/plain": [
              "<Figure size 432x288 with 1 Axes>"
            ]
          },
          "metadata": {}
        }
      ]
    },
    {
      "cell_type": "code",
      "metadata": {
        "id": "U3PsscTRlJ6N"
      },
      "source": [
        "preproceesing_data = make_pipeline(lower_text,\n",
        "                              delete_emoji,\n",
        "                              replace_symbol,\n",
        "                              delete_special_character,\n",
        "                              normalize_elongate_words,\n",
        "                              replace_negative_words,\n",
        "                              token_postag,\n",
        "                              ).fit(X_train)"
      ],
      "execution_count": 33,
      "outputs": []
    },
    {
      "cell_type": "code",
      "metadata": {
        "id": "maQBPqv7jrX6"
      },
      "source": [
        "X_train_preprocess = preproceesing_data.transform(X_train)\n",
        "X_dev_preprocess = preproceesing_data.transform(X_dev)\n",
        "X_test_preprocess = preproceesing_data.transform(X_test)"
      ],
      "execution_count": 34,
      "outputs": []
    },
    {
      "cell_type": "code",
      "metadata": {
        "id": "uh5Xen2vFn1B"
      },
      "source": [
        "def prepare_data_aspect(X_preprocess,y,list_label):\n",
        "\n",
        "  list_get = [\"V\", \"N\", \"A\"]\n",
        "  X = []\n",
        "  for i in X_preprocess:\n",
        "    temp = \"\"\n",
        "    for index , value in enumerate(i[1]):\n",
        "      if value in list_get:\n",
        "        temp+=i[0][index]+ \" \"\n",
        "    X.append(temp)\n",
        "  \n",
        "  data = make_data_frame(X,y,list_label)\n",
        "\n",
        "  X_aspect, y_aspect = getdata(data, list_label, \"aspect\")\n",
        "\n",
        "\n",
        "  dic = {\n",
        "      \"X_aspect\":X_aspect,\n",
        "\n",
        "      \"y_aspect\": y_aspect,\n",
        "\n",
        "      }\n",
        "  return dic"
      ],
      "execution_count": 35,
      "outputs": []
    },
    {
      "cell_type": "code",
      "metadata": {
        "id": "kikHu9UVryo8"
      },
      "source": [
        "train_aspect = prepare_data_aspect(X_train_preprocess,y_train,list_label)\n",
        "dev_aspect  = prepare_data_aspect(X_dev_preprocess,y_dev,list_label)\n",
        "test_aspect  = prepare_data_aspect(X_test_preprocess,y_test,list_label)\n"
      ],
      "execution_count": 36,
      "outputs": []
    },
    {
      "cell_type": "markdown",
      "metadata": {
        "id": "JemuyG4lrCkU"
      },
      "source": [
        "##3.3 Aspect"
      ]
    },
    {
      "cell_type": "code",
      "metadata": {
        "id": "I9A_Z70517W6"
      },
      "source": [
        "tf_aspect = TfidfVectorizer(sublinear_tf=True, min_df=5, ngram_range=(1,3), stop_words='english').fit(train_aspect[\"X_aspect\"])                    "
      ],
      "execution_count": 37,
      "outputs": []
    },
    {
      "cell_type": "code",
      "metadata": {
        "id": "CBxOIxRKsK9c"
      },
      "source": [
        "X_train_aspect_tf = tf_aspect.transform(train_aspect[\"X_aspect\"]).toarray()\n",
        "\n",
        "X_dev_aspect_tf  = tf_aspect.transform(dev_aspect[\"X_aspect\"]).toarray()\n",
        "\n",
        "X_test_aspect_tf  = tf_aspect.transform(test_aspect[\"X_aspect\"]).toarray()"
      ],
      "execution_count": 38,
      "outputs": []
    },
    {
      "cell_type": "code",
      "metadata": {
        "id": "gvuatJNo4TTL"
      },
      "source": [
        "from sklearn import metrics\n",
        "\n",
        "def score(y_true, y_pred):\n",
        "  print(\"Precison: \",metrics.precision_score(y_true, y_pred, average='micro'))\n",
        "  print(\"Recall: \",metrics.recall_score(y_true, y_pred, average='micro'))\n",
        "  print(\"F1: \",metrics.f1_score(y_true, y_pred, average='micro'))\n"
      ],
      "execution_count": 39,
      "outputs": []
    },
    {
      "cell_type": "markdown",
      "metadata": {
        "id": "KFWPJcIJZT1v"
      },
      "source": [
        "## 3.4 Model"
      ]
    },
    {
      "cell_type": "markdown",
      "metadata": {
        "id": "OZ6ULa3vEhZQ"
      },
      "source": [
        "####3.4.1 Giai đoạn 1"
      ]
    },
    {
      "cell_type": "code",
      "metadata": {
        "id": "UPz4DKWT5lUc"
      },
      "source": [
        "from sklearn.multiclass import OneVsRestClassifier\n",
        "from sklearn.svm import LinearSVC\n",
        "\n",
        "clf_aspect = OneVsRestClassifier(LinearSVC(penalty=\"l2\",dual=True,tol=1e-4,C=1.0,max_iter=1000,loss='squared_hinge',multi_class=\"ovr\"), n_jobs=1)      "
      ],
      "execution_count": 40,
      "outputs": []
    },
    {
      "cell_type": "code",
      "metadata": {
        "id": "uQxKAY9rCf85",
        "colab": {
          "base_uri": "https://localhost:8080/"
        },
        "outputId": "f22a7041-d9bb-4f0f-88e4-a49699c81642"
      },
      "source": [
        "clf_aspect.fit(X_train_aspect_tf, train_aspect[\"y_aspect\"])\n",
        "\n",
        "Result_phase_1_train = clf_aspect.predict(X_train_aspect_tf)\n",
        "Result_phase_1_dev = clf_aspect.predict(X_dev_aspect_tf)\n",
        "Result_phase_1_test = clf_aspect.predict(X_test_aspect_tf)"
      ],
      "execution_count": 41,
      "outputs": [
        {
          "output_type": "stream",
          "name": "stderr",
          "text": [
            "/usr/local/lib/python3.7/dist-packages/sklearn/multiclass.py:80: UserWarning: Label not 31 is present in all training examples.\n",
            "  \"Label %s is present in all training examples.\" % str(classes[c])\n"
          ]
        }
      ]
    },
    {
      "cell_type": "code",
      "metadata": {
        "colab": {
          "base_uri": "https://localhost:8080/"
        },
        "id": "AwOXRv-C1WrC",
        "outputId": "7ba8e57b-a6d0-4f9b-f66c-f23f32a47adb"
      },
      "source": [
        "score(dev_aspect[\"y_aspect\"],Result_phase_1_dev)"
      ],
      "execution_count": 42,
      "outputs": [
        {
          "output_type": "stream",
          "name": "stdout",
          "text": [
            "Precison:  0.7982995658465991\n",
            "Recall:  0.6205878216847138\n",
            "F1:  0.6983147400901969\n"
          ]
        }
      ]
    },
    {
      "cell_type": "code",
      "metadata": {
        "colab": {
          "base_uri": "https://localhost:8080/"
        },
        "id": "Uztg1RNrdU9S",
        "outputId": "e4a0eae0-3458-4901-9408-301fafa1abdb"
      },
      "source": [
        "score(test_aspect[\"y_aspect\"],Result_phase_1_test)"
      ],
      "execution_count": 43,
      "outputs": [
        {
          "output_type": "stream",
          "name": "stdout",
          "text": [
            "Precison:  0.8000999500249875\n",
            "Recall:  0.6195820433436533\n",
            "F1:  0.6983642311886586\n"
          ]
        }
      ]
    },
    {
      "cell_type": "markdown",
      "metadata": {
        "id": "B-z9YJsoBfza"
      },
      "source": [
        "####3.4.2 Giai đoạn 2"
      ]
    },
    {
      "cell_type": "code",
      "metadata": {
        "id": "Lswd1Sp5FtHJ"
      },
      "source": [
        "def prepare_data_polarity(X_preprocess,y,list_label,Result_phase_1):\n",
        "\n",
        "  list_get = [\"V\", \"N\", \"A\"]\n",
        "  X = []\n",
        "  count_pos_feature = []\n",
        "  for i in X_preprocess:\n",
        "    temp = \"\"\n",
        "    count_verb = 0\n",
        "    count_noun = 0\n",
        "    count_adj = 0\n",
        "    for index , value in enumerate(i[1]):\n",
        "      if value == \"V\":\n",
        "        temp+=i[0][index]+ \" \"\n",
        "        count_verb +=1\n",
        "      if value ==\"N\":\n",
        "        temp+=i[0][index]+ \" \"\n",
        "        count_noun +=1\n",
        "      if value ==\"A\":\n",
        "        temp+=i[0][index]+ \" \"\n",
        "        count_adj +=1\n",
        "    X.append(temp)\n",
        "    count_pos_feature.append([count_verb,count_noun,count_adj])\n",
        "\n",
        "  count_pos_feature = np.array(count_pos_feature)\n",
        "\n",
        "  count_of_hagtag =  np.sum(Result_phase_1,axis=1)\n",
        "\n",
        "\n",
        "  df = pd.DataFrame()\n",
        "  df[\"count_hagatg\"] = count_of_hagtag\n",
        "  df[\"count_pos_verb\"] = count_pos_feature[:,0]\n",
        "  df[\"count_pos_noun\"] = count_pos_feature[:,1]\n",
        "  df[\"count_pos_adj\"] = count_pos_feature[:,2]\n",
        "\n",
        "  data = make_data_frame(X,y,list_label)\n",
        "\n",
        "\n",
        "  X_positive, y_positive = getdata(data, list_label, \"positive\")\n",
        "  X_negative, y_negative = getdata(data, list_label, \"negative\")\n",
        "  X_neutral, y_neutral = getdata(data, list_label, \"neutral\")\n",
        "\n",
        "\n",
        "  dic = {\n",
        "      \"review\":X_positive,\n",
        "      \"feature_categori\":df,\n",
        "      \"y_positive\": y_positive,\n",
        "      \"y_negative\":y_negative,\n",
        "      'y_neutral':y_neutral\n",
        "  }\n",
        "  return dic\n"
      ],
      "execution_count": 44,
      "outputs": []
    },
    {
      "cell_type": "code",
      "metadata": {
        "id": "Hjogd8KmM_n3"
      },
      "source": [
        "train_polarity = prepare_data_polarity(X_train_preprocess, y_train, list_label, Result_phase_1_train)\n",
        "dev_polarity  = prepare_data_polarity(X_dev_preprocess, y_dev, list_label, Result_phase_1_dev)\n",
        "test_polarity  = prepare_data_polarity(X_test_preprocess, y_test, list_label, Result_phase_1_test)"
      ],
      "execution_count": 45,
      "outputs": []
    },
    {
      "cell_type": "code",
      "metadata": {
        "id": "VRXzUFkUOsUV"
      },
      "source": [
        "review_train_polarity = train_polarity[\"review\"]\n",
        "review_dev_polarity = dev_polarity[\"review\"]\n",
        "review_test_polarity = test_polarity[\"review\"]"
      ],
      "execution_count": 46,
      "outputs": []
    },
    {
      "cell_type": "code",
      "metadata": {
        "id": "w-g5vzPL-p5l"
      },
      "source": [
        "tf_polarity = TfidfVectorizer(sublinear_tf=True, min_df=5, ngram_range=(2,3), stop_words='english').fit(review_train_polarity)\n",
        "\n",
        "review_train_polarity_tf = tf_polarity.transform(review_train_polarity).toarray()\n",
        "\n",
        "review_dev_polarity_tf  = tf_polarity.transform(review_dev_polarity).toarray()\n",
        "\n",
        "review_test_polarity_tf  = tf_polarity.transform(review_test_polarity).toarray()"
      ],
      "execution_count": 47,
      "outputs": []
    },
    {
      "cell_type": "code",
      "metadata": {
        "id": "3rt-hS-jtwdU"
      },
      "source": [
        "X_train_polarity_tf = np.hstack((review_train_polarity_tf,train_polarity[\"feature_categori\"]))\n",
        "X_dev_polarity_tf = np.hstack((review_dev_polarity_tf,dev_polarity[\"feature_categori\"]))\n",
        "X_test_polarity_tf = np.hstack((review_test_polarity_tf,test_polarity[\"feature_categori\"]))"
      ],
      "execution_count": 48,
      "outputs": []
    },
    {
      "cell_type": "code",
      "metadata": {
        "id": "LdyET5Hltweo"
      },
      "source": [
        "clf_positive = OneVsRestClassifier(LinearSVC(penalty=\"l2\",dual=True,tol=1e-4,C=1.0,max_iter=1000,loss='squared_hinge',multi_class=\"ovr\"), n_jobs=1)         \n",
        "clf_negative = OneVsRestClassifier(LinearSVC(penalty=\"l2\",dual=True,tol=1e-4,C=1.0,max_iter=1000,loss='squared_hinge',multi_class=\"ovr\"), n_jobs=1)\n",
        "clf_neutral = OneVsRestClassifier(LinearSVC(penalty=\"l2\",dual=True,tol=1e-4,C=1.0,max_iter=1000,loss='squared_hinge',multi_class=\"ovr\"), n_jobs=1)   "
      ],
      "execution_count": 49,
      "outputs": []
    },
    {
      "cell_type": "code",
      "metadata": {
        "colab": {
          "base_uri": "https://localhost:8080/"
        },
        "id": "65T-em7TSKT0",
        "outputId": "d86e8d90-bbe5-4d79-8c1a-a18c0b72c6bb"
      },
      "source": [
        "import warnings\n",
        "warnings.filterwarnings('ignore')\n",
        "\n",
        "clf_positive.fit(review_train_polarity_tf,train_polarity[\"y_positive\"])\n",
        "clf_negative.fit(review_train_polarity_tf,train_polarity[\"y_negative\"])\n",
        "clf_neutral.fit(review_train_polarity_tf,train_polarity[\"y_neutral\"])\n"
      ],
      "execution_count": 50,
      "outputs": [
        {
          "output_type": "execute_result",
          "data": {
            "text/plain": [
              "OneVsRestClassifier(estimator=LinearSVC(), n_jobs=1)"
            ]
          },
          "metadata": {},
          "execution_count": 50
        }
      ]
    },
    {
      "cell_type": "code",
      "metadata": {
        "id": "5sMgUbkdSFbN"
      },
      "source": [
        "predict_positive = clf_positive.predict(review_dev_polarity_tf)\n",
        "predict_negative = clf_negative.predict(review_dev_polarity_tf)\n",
        "predict_neutral = clf_neutral.predict(review_dev_polarity_tf)"
      ],
      "execution_count": 51,
      "outputs": []
    },
    {
      "cell_type": "code",
      "metadata": {
        "colab": {
          "base_uri": "https://localhost:8080/"
        },
        "id": "OUHuWWDLSreN",
        "outputId": "be023557-b43f-4341-ac8b-e13f6c00bbcf"
      },
      "source": [
        "pos = 6\n",
        "print(Result_phase_1_dev[pos])\n",
        "print(predict_positive[pos])\n",
        "print(predict_negative[pos])\n",
        "print(predict_neutral[pos])"
      ],
      "execution_count": 52,
      "outputs": [
        {
          "output_type": "stream",
          "name": "stdout",
          "text": [
            "[0 0 0 0 0 0 0 0 0 0 0 0 0 0 0 0 0 0 0 1 1 0 0 0 0 0 0 0 0 0 0 0 0 0]\n",
            "[0 0 0 0 0 0 0 0 0 0 0 0 0 0 0 0 0 0 0 0 0 0 0 0 0 0 0 0 0 0 0 0 0 0]\n",
            "[0 0 0 0 0 0 0 0 0 0 0 0 0 0 0 0 0 0 0 1 0 0 0 0 0 0 0 0 0 0 0 0 0 1]\n",
            "[0 0 0 0 0 0 0 0 0 0 0 0 0 0 0 0 0 0 0 0 0 0 0 0 0 0 0 0 0 0 0 0 0 0]\n"
          ]
        }
      ]
    },
    {
      "cell_type": "code",
      "metadata": {
        "id": "2Ix8RdqxS_ic"
      },
      "source": [
        "pred =[]\n",
        "for i in range(2000):\n",
        "  rs = show_label_SA(Result_phase_1_dev[i],predict_positive[i],predict_negative[i],predict_neutral[i])\n",
        "  pred.append(rs)\n"
      ],
      "execution_count": 53,
      "outputs": []
    },
    {
      "cell_type": "markdown",
      "metadata": {
        "id": "2oE19IDVwixO"
      },
      "source": [
        "## 3.5 Predict in dev-dataset"
      ]
    },
    {
      "cell_type": "code",
      "metadata": {
        "id": "kyIlIkceArOM"
      },
      "source": [
        "_,_, y_true = separate_label(y_dev)\n",
        "y_true_tf = transform_label_SA.transform(y_true)\n",
        "pre_tf = transform_label_SA.transform(pred)"
      ],
      "execution_count": 54,
      "outputs": []
    },
    {
      "cell_type": "code",
      "metadata": {
        "id": "ru6Xo4TPA55_",
        "colab": {
          "base_uri": "https://localhost:8080/"
        },
        "outputId": "e31e7d21-6b3b-4fa0-a006-933c9ef82e19"
      },
      "source": [
        "score(y_true_tf,pre_tf)"
      ],
      "execution_count": 55,
      "outputs": [
        {
          "output_type": "stream",
          "name": "stdout",
          "text": [
            "Precison:  0.7765659083826737\n",
            "Recall:  0.35044297567149485\n",
            "F1:  0.4829457364341085\n"
          ]
        }
      ]
    }
  ]
}