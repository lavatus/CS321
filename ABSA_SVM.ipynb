{
  "nbformat": 4,
  "nbformat_minor": 0,
  "metadata": {
    "colab": {
      "name": "ABSA_SVM.ipynb",
      "provenance": [],
      "collapsed_sections": [],
      "mount_file_id": "1ZBhST3xqrymV-A_0NRtmb43VhIY4oCj-",
      "authorship_tag": "ABX9TyO2COs+T66lerQEVulUjxIj",
      "include_colab_link": true
    },
    "kernelspec": {
      "name": "python3",
      "display_name": "Python 3"
    },
    "language_info": {
      "name": "python"
    }
  },
  "cells": [
    {
      "cell_type": "markdown",
      "metadata": {
        "id": "view-in-github",
        "colab_type": "text"
      },
      "source": [
        "<a href=\"https://colab.research.google.com/github/lavatus/CS321/blob/main/ABSA_SVM.ipynb\" target=\"_parent\"><img src=\"https://colab.research.google.com/assets/colab-badge.svg\" alt=\"Open In Colab\"/></a>"
      ]
    },
    {
      "cell_type": "markdown",
      "metadata": {
        "id": "DUUSQkL-aFkg"
      },
      "source": [
        "# 1. Import library"
      ]
    },
    {
      "cell_type": "code",
      "metadata": {
        "colab": {
          "base_uri": "https://localhost:8080/"
        },
        "id": "Jhh1VtDviF0J",
        "outputId": "fb065f2e-150d-468f-f899-7fcd41cb1a7b"
      },
      "source": [
        "!git clone -q https://github.com/DNThuan/AspectBasedSentimentAnalysis.git\n",
        "!pwd\n",
        "!ls"
      ],
      "execution_count": null,
      "outputs": [
        {
          "output_type": "stream",
          "name": "stdout",
          "text": [
            "fatal: destination path 'AspectBasedSentimentAnalysis' already exists and is not an empty directory.\n",
            "/content\n",
            "AspectBasedSentimentAnalysis  sample_data\n",
            "file_predict.txt\t      VLSP_Hotel_test.txt\n"
          ]
        }
      ]
    },
    {
      "cell_type": "code",
      "metadata": {
        "colab": {
          "base_uri": "https://localhost:8080/"
        },
        "id": "bIAVkc62nBQW",
        "outputId": "45adfd24-e4f9-464d-f8d9-3b142f2271f1"
      },
      "source": [
        "!pip install -q emoji\n",
        "!pip install pyvi"
      ],
      "execution_count": null,
      "outputs": [
        {
          "output_type": "stream",
          "name": "stdout",
          "text": [
            "Requirement already satisfied: pyvi in /usr/local/lib/python3.7/dist-packages (0.1.1)\n",
            "Requirement already satisfied: sklearn-crfsuite in /usr/local/lib/python3.7/dist-packages (from pyvi) (0.3.6)\n",
            "Requirement already satisfied: scikit-learn in /usr/local/lib/python3.7/dist-packages (from pyvi) (1.0.1)\n",
            "Requirement already satisfied: numpy>=1.14.6 in /usr/local/lib/python3.7/dist-packages (from scikit-learn->pyvi) (1.19.5)\n",
            "Requirement already satisfied: scipy>=1.1.0 in /usr/local/lib/python3.7/dist-packages (from scikit-learn->pyvi) (1.4.1)\n",
            "Requirement already satisfied: joblib>=0.11 in /usr/local/lib/python3.7/dist-packages (from scikit-learn->pyvi) (1.1.0)\n",
            "Requirement already satisfied: threadpoolctl>=2.0.0 in /usr/local/lib/python3.7/dist-packages (from scikit-learn->pyvi) (3.0.0)\n",
            "Requirement already satisfied: tqdm>=2.0 in /usr/local/lib/python3.7/dist-packages (from sklearn-crfsuite->pyvi) (4.62.3)\n",
            "Requirement already satisfied: python-crfsuite>=0.8.3 in /usr/local/lib/python3.7/dist-packages (from sklearn-crfsuite->pyvi) (0.9.7)\n",
            "Requirement already satisfied: tabulate in /usr/local/lib/python3.7/dist-packages (from sklearn-crfsuite->pyvi) (0.8.9)\n",
            "Requirement already satisfied: six in /usr/local/lib/python3.7/dist-packages (from sklearn-crfsuite->pyvi) (1.15.0)\n"
          ]
        }
      ]
    },
    {
      "cell_type": "code",
      "metadata": {
        "id": "K_ix5yrDm92i"
      },
      "source": [
        "import numpy as np\n",
        "import json\n",
        "import pandas as pd\n",
        "import re\n",
        "import emoji\n",
        "\n",
        "from sklearn.preprocessing import  FunctionTransformer\n",
        "from pyvi import ViTokenizer, ViPosTagger\n",
        "from AspectBasedSentimentAnalysis.utils import preprocessing\n",
        "from sklearn.preprocessing import MultiLabelBinarizer\n",
        "from sklearn.metrics import classification_report\n",
        "\n",
        "import warnings\n",
        "warnings.filterwarnings('ignore')"
      ],
      "execution_count": null,
      "outputs": []
    },
    {
      "cell_type": "markdown",
      "metadata": {
        "id": "VoygYsSrcDnl"
      },
      "source": [
        "#2. Preprocessing data"
      ]
    },
    {
      "cell_type": "code",
      "metadata": {
        "id": "GgU7bAw0glsE"
      },
      "source": [
        "def show_label(list_label, pred_as, pred_pos, pred_neg, pred_neu):\n",
        "  labels = []\n",
        "  for index, value in enumerate(pred_as):\n",
        "    if value == 1:\n",
        "      label = \"{\"\n",
        "      if pred_pos[index] ==1:\n",
        "        label += str(list_label[index])+\", \"+\"positive\"\n",
        "      elif pred_neg[index] ==1:\n",
        "        label += str(list_label[index])+\", \"+\"negative\"\n",
        "      elif pred_neu[index] ==1:\n",
        "        label += str(list_label[index])+\", \"+\"neutral\"\n",
        "      label+=\"}\"\n",
        "      labels.append(label)\n",
        "  return labels"
      ],
      "execution_count": null,
      "outputs": []
    },
    {
      "cell_type": "code",
      "metadata": {
        "id": "oJcNvBw0eKR8"
      },
      "source": [
        "\n",
        "def read_label(path):\n",
        "  with open(path) as f:\n",
        "    data = json.load(f)\n",
        "  f.close()\n",
        "  return data\n",
        "\n",
        "aspect_path = \"/content/AspectBasedSentimentAnalysis/Label/aspect.json\"\n",
        "SA_path = \"/content/AspectBasedSentimentAnalysis/Label/SA.json\"\n",
        "\n",
        "\n",
        "aspect_labels = read_label(aspect_path)\n",
        "AS_labels = read_label(SA_path)\n",
        "\n",
        "transform_label_aspect = MultiLabelBinarizer().fit([aspect_labels])\n",
        "list_label_aspect = transform_label_aspect.classes_\n",
        "\n",
        "transform_label_SA = MultiLabelBinarizer().fit([AS_labels])\n",
        "list_label_SA = transform_label_SA.classes_"
      ],
      "execution_count": null,
      "outputs": []
    },
    {
      "cell_type": "markdown",
      "metadata": {
        "id": "y3-g3AyHY0nR"
      },
      "source": [
        "## 2.1 Get data"
      ]
    },
    {
      "cell_type": "code",
      "metadata": {
        "id": "_tknJtJPTYYr"
      },
      "source": [
        "def read_data(path):\n",
        "  with open(path) as f:\n",
        "    data = f.read().split(\"\\n\\n\")\n",
        "  f.close()\n",
        "  for i in range(len(data)):\n",
        "    temp=data[i].split(\"\\n\")\n",
        "    data[i]=temp[1:3]\n",
        "  return data"
      ],
      "execution_count": null,
      "outputs": []
    },
    {
      "cell_type": "code",
      "metadata": {
        "colab": {
          "base_uri": "https://localhost:8080/"
        },
        "id": "m1omtbZ7TZan",
        "outputId": "636c6351-fb79-4fee-cb02-aa317edc2907"
      },
      "source": [
        "path_train = \"/content/AspectBasedSentimentAnalysis/VLSP2018_SA_Hotel/1-VLSP2018-SA-Hotel-train (7-3-2018).txt\"\n",
        "path_dev =  \"/content/AspectBasedSentimentAnalysis/VLSP2018_SA_Hotel/2-VLSP2018-SA-Hotel-dev (7-3-2018).txt\"\n",
        "path_test = \"/content/AspectBasedSentimentAnalysis/VLSP2018_SA_Hotel/3-VLSP2018-SA-Hotel-test (8-3-2018).txt\"\n",
        "\n",
        "train = np.array(read_data(path_train))\n",
        "dev = np.array(read_data(path_dev))\n",
        "test = np.array(read_data(path_test))\n",
        "\n",
        "print(\"Train: \",train.shape)\n",
        "print(\"Dev: \",dev.shape)\n",
        "print(\"Test: \",test.shape)\n"
      ],
      "execution_count": null,
      "outputs": [
        {
          "output_type": "stream",
          "name": "stdout",
          "text": [
            "Train:  (3000, 2)\n",
            "Dev:  (2000, 2)\n",
            "Test:  (600, 2)\n"
          ]
        }
      ]
    },
    {
      "cell_type": "code",
      "metadata": {
        "id": "tvkjQtzoX3QX"
      },
      "source": [
        "X_train, y_train = train[:,0], train[:,1]\n",
        "X_dev,   y_dev   = dev[:,0],   dev[:,1]\n",
        "X_test,  y_test  = test[:,0],  test[:,1]"
      ],
      "execution_count": null,
      "outputs": []
    },
    {
      "cell_type": "markdown",
      "metadata": {
        "id": "6v5-d7B9alpd"
      },
      "source": [
        "## 2.2 Preprocess review data"
      ]
    },
    {
      "cell_type": "code",
      "metadata": {
        "id": "Q5wXzxrMB7_7"
      },
      "source": [
        "X_train_aspect_preprocess = preprocessing.Preprocessing_Review(X_train).process()\n",
        "\n",
        "X_dev_aspect_preprocess = preprocessing.Preprocessing_Review(X_dev).process()\n",
        "\n",
        "X_test_aspect_preprocess = preprocessing.Preprocessing_Review(X_test).process()"
      ],
      "execution_count": null,
      "outputs": []
    },
    {
      "cell_type": "markdown",
      "metadata": {
        "id": "0dHrqp0LYIK4"
      },
      "source": [
        "## 2.3 Covert to vector"
      ]
    },
    {
      "cell_type": "code",
      "metadata": {
        "id": "I9A_Z70517W6"
      },
      "source": [
        "from sklearn.feature_extraction.text import TfidfVectorizer\n",
        "\n",
        "TF_IDF = TfidfVectorizer(sublinear_tf=True, min_df=5, ngram_range=(1,3), stop_words='english').fit(X_train_aspect_preprocess)\n",
        "\n",
        "X_train_aspect_tf = TF_IDF.transform(X_train_aspect_preprocess).toarray()\n",
        "X_dev_aspect_tf = TF_IDF.transform(X_dev_aspect_preprocess).toarray()\n",
        "X_test_aspect_tf = TF_IDF.transform(X_test_aspect_preprocess).toarray()"
      ],
      "execution_count": null,
      "outputs": []
    },
    {
      "cell_type": "markdown",
      "metadata": {
        "id": "2WzJXg61w5hH"
      },
      "source": [
        "## 2.4 Preprocessing label for aspect"
      ]
    },
    {
      "cell_type": "code",
      "metadata": {
        "id": "mWu4mD5cwNN2"
      },
      "source": [
        "y_train_aspect_preprocess = preprocessing.Preprocessing_Label(y_train,list_label_aspect, transform_label_aspect, aspect = True).make_label_dataframe()\n",
        "\n",
        "y_dev_aspect_preprocess = preprocessing.Preprocessing_Label(y_dev,list_label_aspect,transform_label_aspect,aspect = True).make_label_dataframe()\n",
        "\n",
        "y_test_aspect_preprocess = preprocessing.Preprocessing_Label(y_test,list_label_aspect, transform_label_aspect, aspect = True).make_label_dataframe()"
      ],
      "execution_count": null,
      "outputs": []
    },
    {
      "cell_type": "markdown",
      "metadata": {
        "id": "KFWPJcIJZT1v"
      },
      "source": [
        "# 3. Modeling"
      ]
    },
    {
      "cell_type": "code",
      "metadata": {
        "id": "gvuatJNo4TTL"
      },
      "source": [
        "from sklearn import metrics\n",
        "\n",
        "def score(y_true, y_pred):\n",
        "  print(\"Precison: \",metrics.precision_score(y_true, y_pred, average='micro'))\n",
        "  print(\"Recall: \",metrics.recall_score(y_true, y_pred, average='micro'))\n",
        "  print(\"F1: \",metrics.f1_score(y_true, y_pred, average='micro'))\n"
      ],
      "execution_count": null,
      "outputs": []
    },
    {
      "cell_type": "code",
      "metadata": {
        "id": "UPz4DKWT5lUc"
      },
      "source": [
        "from sklearn.multiclass import OneVsRestClassifier\n",
        "from sklearn.svm import LinearSVC\n",
        "\n",
        "clf_aspect = OneVsRestClassifier(LinearSVC(), n_jobs=1)\n",
        "\n",
        "clf_positive = OneVsRestClassifier(LinearSVC(), n_jobs=1)\n",
        "clf_negative= OneVsRestClassifier(LinearSVC(), n_jobs=1)\n",
        "clf_neutral = OneVsRestClassifier(LinearSVC(), n_jobs=1)   "
      ],
      "execution_count": null,
      "outputs": []
    },
    {
      "cell_type": "markdown",
      "metadata": {
        "id": "kxnDdZ59a_y1"
      },
      "source": [
        "## 3.1 Aspect detection"
      ]
    },
    {
      "cell_type": "code",
      "metadata": {
        "id": "uQxKAY9rCf85",
        "colab": {
          "base_uri": "https://localhost:8080/"
        },
        "outputId": "0fb08d43-8268-4b70-9934-acd8b22ba7fe"
      },
      "source": [
        "clf_aspect.fit(X_train_aspect_tf, y_train_aspect_preprocess)\n"
      ],
      "execution_count": null,
      "outputs": [
        {
          "output_type": "execute_result",
          "data": {
            "text/plain": [
              "OneVsRestClassifier(estimator=LinearSVC(), n_jobs=1)"
            ]
          },
          "metadata": {},
          "execution_count": 221
        }
      ]
    },
    {
      "cell_type": "markdown",
      "metadata": {
        "id": "t89U2BB2boeD"
      },
      "source": [
        "### 3.1.1 Predict aspect in train"
      ]
    },
    {
      "cell_type": "code",
      "metadata": {
        "id": "ARWQamKW00vl",
        "colab": {
          "base_uri": "https://localhost:8080/"
        },
        "outputId": "63d0a960-a24a-441d-bfde-60c6cd7ce3e8"
      },
      "source": [
        "train_predict_aspect =  clf_aspect.predict(X_train_aspect_tf)\n",
        "\n",
        "print(classification_report(y_train_aspect_preprocess,train_predict_aspect, target_names=list_label_aspect))"
      ],
      "execution_count": null,
      "outputs": [
        {
          "output_type": "stream",
          "name": "stdout",
          "text": [
            "                                precision    recall  f1-score   support\n",
            "\n",
            "        FACILITIES#CLEANLINESS       1.00      1.00      1.00       172\n",
            "            FACILITIES#COMFORT       1.00      0.98      0.99       132\n",
            "    FACILITIES#DESIGN&FEATURES       0.99      0.99      0.99       525\n",
            "            FACILITIES#GENERAL       1.00      0.95      0.97       219\n",
            "      FACILITIES#MISCELLANEOUS       1.00      0.97      0.98        33\n",
            "             FACILITIES#PRICES       1.00      0.96      0.98        53\n",
            "            FACILITIES#QUALITY       1.00      0.97      0.98       208\n",
            "     FOOD&DRINKS#MISCELLANEOUS       1.00      1.00      1.00        13\n",
            "            FOOD&DRINKS#PRICES       1.00      0.99      1.00       118\n",
            "           FOOD&DRINKS#QUALITY       1.00      1.00      1.00       672\n",
            "     FOOD&DRINKS#STYLE&OPTIONS       1.00      1.00      1.00       569\n",
            "             HOTEL#CLEANLINESS       1.00      0.99      0.99       348\n",
            "                 HOTEL#COMFORT       0.99      0.99      0.99      1139\n",
            "         HOTEL#DESIGN&FEATURES       1.00      0.99      0.99       877\n",
            "                 HOTEL#GENERAL       0.99      0.99      0.99      1282\n",
            "           HOTEL#MISCELLANEOUS       1.00      0.96      0.98       108\n",
            "                  HOTEL#PRICES       0.99      0.99      0.99       496\n",
            "                 HOTEL#QUALITY       1.00      0.96      0.98       246\n",
            "              LOCATION#GENERAL       1.00      0.99      1.00      1196\n",
            "             ROOMS#CLEANLINESS       1.00      1.00      1.00       658\n",
            "                 ROOMS#COMFORT       1.00      0.96      0.98       434\n",
            "         ROOMS#DESIGN&FEATURES       1.00      0.99      1.00       916\n",
            "                 ROOMS#GENERAL       1.00      0.96      0.98       256\n",
            "           ROOMS#MISCELLANEOUS       1.00      1.00      1.00         5\n",
            "                  ROOMS#PRICES       1.00      0.96      0.98       196\n",
            "                 ROOMS#QUALITY       1.00      0.95      0.97       164\n",
            "    ROOM_AMENITIES#CLEANLINESS       1.00      1.00      1.00        89\n",
            "        ROOM_AMENITIES#COMFORT       0.98      0.98      0.98       100\n",
            "ROOM_AMENITIES#DESIGN&FEATURES       0.99      0.98      0.98       354\n",
            "        ROOM_AMENITIES#GENERAL       0.99      0.98      0.99       216\n",
            "  ROOM_AMENITIES#MISCELLANEOUS       1.00      1.00      1.00         3\n",
            "         ROOM_AMENITIES#PRICES       0.00      0.00      0.00         0\n",
            "        ROOM_AMENITIES#QUALITY       1.00      0.98      0.99       239\n",
            "               SERVICE#GENERAL       1.00      1.00      1.00      1912\n",
            "\n",
            "                     micro avg       1.00      0.99      0.99     13948\n",
            "                     macro avg       0.97      0.95      0.96     13948\n",
            "                  weighted avg       1.00      0.99      0.99     13948\n",
            "                   samples avg       1.00      0.99      0.99     13948\n",
            "\n"
          ]
        }
      ]
    },
    {
      "cell_type": "markdown",
      "metadata": {
        "id": "aJFDyL5Xbwax"
      },
      "source": [
        "### 3.1.2 Predict aspect in dev"
      ]
    },
    {
      "cell_type": "code",
      "metadata": {
        "colab": {
          "base_uri": "https://localhost:8080/"
        },
        "id": "d_a7pVIZbjDv",
        "outputId": "ec067b84-f715-4b4c-b260-be763ab75e97"
      },
      "source": [
        "dev_predict_aspect =  clf_aspect.predict(X_dev_aspect_tf)\n",
        "\n",
        "print(classification_report(y_dev_aspect_preprocess,dev_predict_aspect, target_names=list_label_aspect))"
      ],
      "execution_count": null,
      "outputs": [
        {
          "output_type": "stream",
          "name": "stdout",
          "text": [
            "                                precision    recall  f1-score   support\n",
            "\n",
            "        FACILITIES#CLEANLINESS       0.70      0.30      0.42        23\n",
            "            FACILITIES#COMFORT       0.50      0.01      0.03        69\n",
            "    FACILITIES#DESIGN&FEATURES       0.74      0.35      0.48       220\n",
            "            FACILITIES#GENERAL       0.71      0.16      0.26        62\n",
            "      FACILITIES#MISCELLANEOUS       0.00      0.00      0.00         7\n",
            "             FACILITIES#PRICES       1.00      0.03      0.05        36\n",
            "            FACILITIES#QUALITY       0.91      0.29      0.44       101\n",
            "     FOOD&DRINKS#MISCELLANEOUS       0.00      0.00      0.00        11\n",
            "            FOOD&DRINKS#PRICES       0.50      0.03      0.06        29\n",
            "           FOOD&DRINKS#QUALITY       0.88      0.79      0.83       423\n",
            "     FOOD&DRINKS#STYLE&OPTIONS       0.79      0.75      0.77       289\n",
            "             HOTEL#CLEANLINESS       0.70      0.50      0.58       222\n",
            "                 HOTEL#COMFORT       0.58      0.45      0.51       411\n",
            "         HOTEL#DESIGN&FEATURES       0.62      0.46      0.53       272\n",
            "                 HOTEL#GENERAL       0.80      0.64      0.71       422\n",
            "           HOTEL#MISCELLANEOUS       1.00      0.06      0.10       145\n",
            "                  HOTEL#PRICES       0.77      0.55      0.64       136\n",
            "                 HOTEL#QUALITY       0.55      0.15      0.24        40\n",
            "              LOCATION#GENERAL       0.92      0.90      0.91       567\n",
            "             ROOMS#CLEANLINESS       0.77      0.79      0.78       433\n",
            "                 ROOMS#COMFORT       0.55      0.27      0.36       283\n",
            "         ROOMS#DESIGN&FEATURES       0.71      0.68      0.70       475\n",
            "                 ROOMS#GENERAL       0.55      0.14      0.22        88\n",
            "           ROOMS#MISCELLANEOUS       0.00      0.00      0.00         6\n",
            "                  ROOMS#PRICES       0.90      0.32      0.47        56\n",
            "                 ROOMS#QUALITY       0.50      0.17      0.25         6\n",
            "    ROOM_AMENITIES#CLEANLINESS       0.83      0.05      0.09       106\n",
            "        ROOM_AMENITIES#COMFORT       0.88      0.26      0.41       243\n",
            "ROOM_AMENITIES#DESIGN&FEATURES       0.81      0.34      0.48       417\n",
            "        ROOM_AMENITIES#GENERAL       0.60      0.46      0.52        70\n",
            "  ROOM_AMENITIES#MISCELLANEOUS       0.00      0.00      0.00         3\n",
            "         ROOM_AMENITIES#PRICES       0.00      0.00      0.00         7\n",
            "        ROOM_AMENITIES#QUALITY       0.52      0.24      0.33       122\n",
            "               SERVICE#GENERAL       0.97      0.94      0.96      1311\n",
            "\n",
            "                     micro avg       0.81      0.60      0.69      7111\n",
            "                     macro avg       0.62      0.33      0.39      7111\n",
            "                  weighted avg       0.79      0.60      0.65      7111\n",
            "                   samples avg       0.80      0.64      0.68      7111\n",
            "\n"
          ]
        }
      ]
    },
    {
      "cell_type": "markdown",
      "metadata": {
        "id": "Ju4_Lda5b1I-"
      },
      "source": [
        "### 3.1.3 Predict aspect in test"
      ]
    },
    {
      "cell_type": "code",
      "metadata": {
        "colab": {
          "base_uri": "https://localhost:8080/"
        },
        "id": "AwOXRv-C1WrC",
        "outputId": "7efa6246-9ba1-4917-9052-2adc3436b772"
      },
      "source": [
        "test_predict_aspect =  clf_aspect.predict(X_test_aspect_tf)\n",
        "\n",
        "print(classification_report(y_test_aspect_preprocess,test_predict_aspect, target_names=list_label_aspect))"
      ],
      "execution_count": null,
      "outputs": [
        {
          "output_type": "stream",
          "name": "stdout",
          "text": [
            "                                precision    recall  f1-score   support\n",
            "\n",
            "        FACILITIES#CLEANLINESS       0.00      0.00      0.00         5\n",
            "            FACILITIES#COMFORT       0.00      0.00      0.00        26\n",
            "    FACILITIES#DESIGN&FEATURES       0.78      0.28      0.41        65\n",
            "            FACILITIES#GENERAL       0.60      0.14      0.23        21\n",
            "      FACILITIES#MISCELLANEOUS       0.00      0.00      0.00         8\n",
            "             FACILITIES#PRICES       0.00      0.00      0.00        13\n",
            "            FACILITIES#QUALITY       0.92      0.24      0.38        51\n",
            "     FOOD&DRINKS#MISCELLANEOUS       0.00      0.00      0.00         3\n",
            "            FOOD&DRINKS#PRICES       0.00      0.00      0.00         9\n",
            "           FOOD&DRINKS#QUALITY       0.82      0.78      0.80       129\n",
            "     FOOD&DRINKS#STYLE&OPTIONS       0.87      0.74      0.80       124\n",
            "             HOTEL#CLEANLINESS       0.53      0.48      0.50        67\n",
            "                 HOTEL#COMFORT       0.56      0.47      0.51        94\n",
            "         HOTEL#DESIGN&FEATURES       0.66      0.62      0.64        85\n",
            "                 HOTEL#GENERAL       0.82      0.61      0.70       151\n",
            "           HOTEL#MISCELLANEOUS       1.00      0.07      0.14        68\n",
            "                  HOTEL#PRICES       0.77      0.68      0.72        71\n",
            "                 HOTEL#QUALITY       0.43      0.23      0.30        13\n",
            "              LOCATION#GENERAL       0.94      0.87      0.90       221\n",
            "             ROOMS#CLEANLINESS       0.80      0.82      0.81       200\n",
            "                 ROOMS#COMFORT       0.62      0.43      0.51        93\n",
            "         ROOMS#DESIGN&FEATURES       0.84      0.74      0.79       198\n",
            "                 ROOMS#GENERAL       0.56      0.09      0.15        57\n",
            "           ROOMS#MISCELLANEOUS       0.00      0.00      0.00         4\n",
            "                  ROOMS#PRICES       1.00      0.17      0.29        29\n",
            "                 ROOMS#QUALITY       1.00      0.10      0.18        10\n",
            "    ROOM_AMENITIES#CLEANLINESS       0.50      0.02      0.04        46\n",
            "        ROOM_AMENITIES#COMFORT       1.00      0.22      0.36        68\n",
            "ROOM_AMENITIES#DESIGN&FEATURES       0.77      0.38      0.50       144\n",
            "        ROOM_AMENITIES#GENERAL       0.61      0.44      0.51        32\n",
            "  ROOM_AMENITIES#MISCELLANEOUS       0.00      0.00      0.00         3\n",
            "         ROOM_AMENITIES#PRICES       0.00      0.00      0.00         1\n",
            "        ROOM_AMENITIES#QUALITY       0.40      0.17      0.24        59\n",
            "               SERVICE#GENERAL       0.96      0.96      0.96       416\n",
            "\n",
            "                     micro avg       0.82      0.60      0.69      2584\n",
            "                     macro avg       0.55      0.32      0.36      2584\n",
            "                  weighted avg       0.79      0.60      0.65      2584\n",
            "                   samples avg       0.82      0.62      0.69      2584\n",
            "\n"
          ]
        }
      ]
    },
    {
      "cell_type": "markdown",
      "metadata": {
        "id": "GDpeMywyVWDf"
      },
      "source": [
        "## 3.2 Predict full"
      ]
    },
    {
      "cell_type": "markdown",
      "metadata": {
        "id": "r0qHB3HzWREE"
      },
      "source": [
        "### 3.2.1 Merge predict aspect with X_train"
      ]
    },
    {
      "cell_type": "code",
      "metadata": {
        "id": "o2lwczFwVdRk"
      },
      "source": [
        "X_train_polariry = np.hstack((X_train_aspect_tf,train_predict_aspect))\n",
        "\n",
        "X_dev_polatity = np.hstack((X_dev_aspect_tf,dev_predict_aspect))\n",
        "\n",
        "X_test_polatity = np.hstack((X_test_aspect_tf,test_predict_aspect))"
      ],
      "execution_count": null,
      "outputs": []
    },
    {
      "cell_type": "markdown",
      "metadata": {
        "id": "psRNR9PTWSkS"
      },
      "source": [
        "### 3.2.1 Preproceessing label for polarity"
      ]
    },
    {
      "cell_type": "code",
      "metadata": {
        "id": "1ARqYJYuWQLr"
      },
      "source": [
        "y_train_positive = preprocessing.Preprocessing_Label(y_train, list_label_aspect,transform_label_aspect, positive = True).make_label_dataframe()\n",
        "\n",
        "y_train_negative = preprocessing.Preprocessing_Label(y_train, list_label_aspect, transform_label_aspect,negative = True).make_label_dataframe()\n",
        "\n",
        "y_train_neutral = preprocessing.Preprocessing_Label(y_train,list_label_aspect,transform_label_aspect,neutral = True).make_label_dataframe()\n"
      ],
      "execution_count": null,
      "outputs": []
    },
    {
      "cell_type": "code",
      "metadata": {
        "id": "1oHBW-zXWQUX"
      },
      "source": [
        "y_dev_positive = preprocessing.Preprocessing_Label(y_dev,list_label_aspect, transform_label_aspect,positive = True).make_label_dataframe()\n",
        "\n",
        "y_dev_negative = preprocessing.Preprocessing_Label(y_dev,list_label_aspect,transform_label_aspect, negative = True).make_label_dataframe()\n",
        "\n",
        "y_dev_neutral = preprocessing.Preprocessing_Label(y_dev, list_label_aspect,transform_label_aspect,neutral = True).make_label_dataframe()"
      ],
      "execution_count": null,
      "outputs": []
    },
    {
      "cell_type": "code",
      "metadata": {
        "id": "BDtCFI3Wc_Gn"
      },
      "source": [
        "y_test_positive = preprocessing.Preprocessing_Label(y_test,list_label_aspect, transform_label_aspect, positive = True).make_label_dataframe()\n",
        "\n",
        "y_test_negative = preprocessing.Preprocessing_Label(y_test,list_label_aspect,transform_label_aspect, negative = True).make_label_dataframe()\n",
        "\n",
        "y_test_neutral = preprocessing.Preprocessing_Label(y_test,list_label_aspect,transform_label_aspect, neutral = True).make_label_dataframe()"
      ],
      "execution_count": null,
      "outputs": []
    },
    {
      "cell_type": "markdown",
      "metadata": {
        "id": "k5pnaowZdTRP"
      },
      "source": [
        "### 3.2.3 Fit"
      ]
    },
    {
      "cell_type": "code",
      "metadata": {
        "colab": {
          "base_uri": "https://localhost:8080/"
        },
        "id": "la5evXLIWu05",
        "outputId": "6c0a701d-39b2-4884-d418-4525fe77369c"
      },
      "source": [
        "clf_positive.fit(X_train_polariry, y_train_positive)\n",
        "clf_negative.fit(X_train_polariry, y_train_negative)\n",
        "clf_neutral.fit(X_train_polariry, y_train_neutral)"
      ],
      "execution_count": null,
      "outputs": [
        {
          "output_type": "execute_result",
          "data": {
            "text/plain": [
              "OneVsRestClassifier(estimator=LinearSVC(), n_jobs=1)"
            ]
          },
          "metadata": {},
          "execution_count": 228
        }
      ]
    },
    {
      "cell_type": "markdown",
      "metadata": {
        "id": "zLROI2dxdrnp"
      },
      "source": [
        "### 3.2.4 Predict details polarity label of dev dataset"
      ]
    },
    {
      "cell_type": "code",
      "metadata": {
        "id": "pbIpkDE9Wu21"
      },
      "source": [
        "predict_positive = clf_positive.predict(X_test_polatity)\n",
        "predict_negative = clf_negative .predict(X_test_polatity)\n",
        "predict_neutral = clf_neutral.predict(X_test_polatity)"
      ],
      "execution_count": null,
      "outputs": []
    },
    {
      "cell_type": "code",
      "metadata": {
        "colab": {
          "base_uri": "https://localhost:8080/"
        },
        "id": "RAiWEg38ZjFI",
        "outputId": "fef0110a-6d3b-4be0-9a5f-81a2747639fa"
      },
      "source": [
        "score(y_test_positive,predict_positive)"
      ],
      "execution_count": null,
      "outputs": [
        {
          "output_type": "stream",
          "name": "stdout",
          "text": [
            "Precison:  0.6477987421383647\n",
            "Recall:  0.5703211517165006\n",
            "F1:  0.6065959952885748\n"
          ]
        }
      ]
    },
    {
      "cell_type": "code",
      "metadata": {
        "colab": {
          "base_uri": "https://localhost:8080/"
        },
        "id": "dTfumyzjZlpK",
        "outputId": "6a6e3b95-e40d-44d3-8752-59663a487a55"
      },
      "source": [
        "score(y_test_negative,predict_negative)"
      ],
      "execution_count": null,
      "outputs": [
        {
          "output_type": "stream",
          "name": "stdout",
          "text": [
            "Precison:  0.5656934306569343\n",
            "Recall:  0.24031007751937986\n",
            "F1:  0.337323177366703\n"
          ]
        }
      ]
    },
    {
      "cell_type": "code",
      "metadata": {
        "colab": {
          "base_uri": "https://localhost:8080/"
        },
        "id": "QJ3g0qQSZsL0",
        "outputId": "21d2ab26-e777-4946-b186-8f8c03c4bf86"
      },
      "source": [
        "score(y_test_neutral,predict_neutral)"
      ],
      "execution_count": null,
      "outputs": [
        {
          "output_type": "stream",
          "name": "stdout",
          "text": [
            "Precison:  0.0\n",
            "Recall:  0.0\n",
            "F1:  0.0\n"
          ]
        },
        {
          "output_type": "stream",
          "name": "stderr",
          "text": [
            "/usr/local/lib/python3.7/dist-packages/sklearn/metrics/_classification.py:1308: UndefinedMetricWarning: Precision is ill-defined and being set to 0.0 due to no predicted samples. Use `zero_division` parameter to control this behavior.\n",
            "  _warn_prf(average, modifier, msg_start, len(result))\n"
          ]
        }
      ]
    },
    {
      "cell_type": "markdown",
      "metadata": {
        "id": "aaW-WnI3g0f1"
      },
      "source": [
        "# 4. Predict full"
      ]
    },
    {
      "cell_type": "code",
      "metadata": {
        "id": "qlCNaWEKhTtF"
      },
      "source": [
        "from AspectBasedSentimentAnalysis.utils.preprocessing import pre_label"
      ],
      "execution_count": null,
      "outputs": []
    },
    {
      "cell_type": "code",
      "metadata": {
        "id": "MSrFyQ01eRo0"
      },
      "source": [
        "def predict_full(X):\n",
        "  predict_aspect = clf_aspect.predict(X)\n",
        "  predict_positive = clf_positive.predict(np.hstack((X,predict_aspect)))\n",
        "  predict_negative = clf_negative.predict(np.hstack((X,predict_aspect)))\n",
        "  predict_neutral = clf_neutral.predict(np.hstack((X,predict_aspect)))\n",
        "\n",
        "  predict_full =[]\n",
        "  for i in range(len(X)):\n",
        "    pred = show_label(list_label_aspect,predict_aspect[i],predict_positive[i],predict_negative[i],predict_neutral[i])\n",
        "    predict_full.append(pred)\n",
        "\n",
        "  return predict_full"
      ],
      "execution_count": null,
      "outputs": []
    },
    {
      "cell_type": "markdown",
      "metadata": {
        "id": "MMEOtY4ufUv-"
      },
      "source": [
        "### 4.1 Dev dataset"
      ]
    },
    {
      "cell_type": "code",
      "metadata": {
        "id": "LR8vKeCeg2Nn"
      },
      "source": [
        "  y_dev_pred_full = predict_full(X_dev_aspect_tf)\n",
        "  y_dev_pred_full = transform_label_SA.transform(y_dev_pred_full)\n",
        "\n",
        "  _,_, y_dev_true = pre_label.separate_label(y_dev)\n",
        "  y_dev_true = transform_label_SA.transform(y_dev_true)\n"
      ],
      "execution_count": null,
      "outputs": []
    },
    {
      "cell_type": "code",
      "metadata": {
        "colab": {
          "base_uri": "https://localhost:8080/"
        },
        "id": "tDzug7awhEXL",
        "outputId": "4203d09f-7952-4e5a-b856-a8cf94e953a1"
      },
      "source": [
        "print(classification_report(y_true_tf,y_dev_pred_full, target_names=list_label_SA))"
      ],
      "execution_count": null,
      "outputs": [
        {
          "output_type": "stream",
          "name": "stdout",
          "text": [
            "                                            precision    recall  f1-score   support\n",
            "\n",
            "        {FACILITIES#CLEANLINESS, negative}       0.00      0.00      0.00         8\n",
            "         {FACILITIES#CLEANLINESS, neutral}       0.00      0.00      0.00         0\n",
            "        {FACILITIES#CLEANLINESS, positive}       0.50      0.33      0.40        15\n",
            "            {FACILITIES#COMFORT, negative}       0.00      0.00      0.00        37\n",
            "             {FACILITIES#COMFORT, neutral}       0.00      0.00      0.00         0\n",
            "            {FACILITIES#COMFORT, positive}       0.00      0.00      0.00        32\n",
            "    {FACILITIES#DESIGN&FEATURES, negative}       0.57      0.03      0.06       119\n",
            "     {FACILITIES#DESIGN&FEATURES, neutral}       0.00      0.00      0.00         8\n",
            "    {FACILITIES#DESIGN&FEATURES, positive}       0.31      0.31      0.31        93\n",
            "            {FACILITIES#GENERAL, negative}       0.00      0.00      0.00         3\n",
            "             {FACILITIES#GENERAL, neutral}       0.00      0.00      0.00         1\n",
            "            {FACILITIES#GENERAL, positive}       0.71      0.17      0.28        58\n",
            "      {FACILITIES#MISCELLANEOUS, negative}       0.00      0.00      0.00         6\n",
            "       {FACILITIES#MISCELLANEOUS, neutral}       0.00      0.00      0.00         0\n",
            "      {FACILITIES#MISCELLANEOUS, positive}       0.00      0.00      0.00         1\n",
            "             {FACILITIES#PRICES, negative}       0.00      0.00      0.00        14\n",
            "              {FACILITIES#PRICES, neutral}       0.00      0.00      0.00         0\n",
            "             {FACILITIES#PRICES, positive}       1.00      0.05      0.09        22\n",
            "            {FACILITIES#QUALITY, negative}       0.86      0.10      0.17        63\n",
            "             {FACILITIES#QUALITY, neutral}       0.00      0.00      0.00         1\n",
            "            {FACILITIES#QUALITY, positive}       0.05      0.03      0.03        37\n",
            "     {FOOD&DRINKS#MISCELLANEOUS, negative}       0.00      0.00      0.00         4\n",
            "      {FOOD&DRINKS#MISCELLANEOUS, neutral}       0.00      0.00      0.00         0\n",
            "     {FOOD&DRINKS#MISCELLANEOUS, positive}       0.00      0.00      0.00         7\n",
            "            {FOOD&DRINKS#PRICES, negative}       0.00      0.00      0.00        12\n",
            "             {FOOD&DRINKS#PRICES, neutral}       0.00      0.00      0.00         1\n",
            "            {FOOD&DRINKS#PRICES, positive}       0.00      0.00      0.00        16\n",
            "           {FOOD&DRINKS#QUALITY, negative}       0.60      0.10      0.17        62\n",
            "            {FOOD&DRINKS#QUALITY, neutral}       1.00      0.07      0.12        15\n",
            "           {FOOD&DRINKS#QUALITY, positive}       0.76      0.78      0.77       346\n",
            "     {FOOD&DRINKS#STYLE&OPTIONS, negative}       0.64      0.19      0.29       167\n",
            "      {FOOD&DRINKS#STYLE&OPTIONS, neutral}       0.00      0.00      0.00         7\n",
            "     {FOOD&DRINKS#STYLE&OPTIONS, positive}       0.34      0.64      0.45       115\n",
            "             {HOTEL#CLEANLINESS, negative}       0.00      0.00      0.00        11\n",
            "              {HOTEL#CLEANLINESS, neutral}       0.00      0.00      0.00         1\n",
            "             {HOTEL#CLEANLINESS, positive}       0.69      0.53      0.60       210\n",
            "                 {HOTEL#COMFORT, negative}       0.33      0.02      0.03        65\n",
            "                  {HOTEL#COMFORT, neutral}       0.00      0.00      0.00         4\n",
            "                 {HOTEL#COMFORT, positive}       0.54      0.50      0.52       342\n",
            "         {HOTEL#DESIGN&FEATURES, negative}       0.00      0.00      0.00        54\n",
            "          {HOTEL#DESIGN&FEATURES, neutral}       0.00      0.00      0.00        11\n",
            "         {HOTEL#DESIGN&FEATURES, positive}       0.55      0.49      0.52       207\n",
            "                 {HOTEL#GENERAL, negative}       0.50      0.18      0.26        28\n",
            "                  {HOTEL#GENERAL, neutral}       0.00      0.00      0.00         6\n",
            "                 {HOTEL#GENERAL, positive}       0.78      0.64      0.70       388\n",
            "           {HOTEL#MISCELLANEOUS, negative}       1.00      0.03      0.06       102\n",
            "            {HOTEL#MISCELLANEOUS, neutral}       0.00      0.00      0.00         2\n",
            "           {HOTEL#MISCELLANEOUS, positive}       0.20      0.02      0.04        41\n",
            "                  {HOTEL#PRICES, negative}       0.50      0.02      0.05        41\n",
            "                   {HOTEL#PRICES, neutral}       0.00      0.00      0.00         2\n",
            "                  {HOTEL#PRICES, positive}       0.64      0.65      0.64        93\n",
            "                 {HOTEL#QUALITY, negative}       0.50      0.09      0.15        11\n",
            "                  {HOTEL#QUALITY, neutral}       0.00      0.00      0.00         0\n",
            "                 {HOTEL#QUALITY, positive}       0.33      0.10      0.16        29\n",
            "              {LOCATION#GENERAL, negative}       0.12      0.05      0.07        43\n",
            "               {LOCATION#GENERAL, neutral}       0.00      0.00      0.00        19\n",
            "              {LOCATION#GENERAL, positive}       0.83      0.86      0.84       505\n",
            "             {ROOMS#CLEANLINESS, negative}       0.44      0.17      0.24        42\n",
            "              {ROOMS#CLEANLINESS, neutral}       0.00      0.00      0.00         4\n",
            "             {ROOMS#CLEANLINESS, positive}       0.74      0.81      0.77       387\n",
            "                 {ROOMS#COMFORT, negative}       0.56      0.10      0.17        88\n",
            "                  {ROOMS#COMFORT, neutral}       0.00      0.00      0.00         8\n",
            "                 {ROOMS#COMFORT, positive}       0.45      0.29      0.36       187\n",
            "         {ROOMS#DESIGN&FEATURES, negative}       0.50      0.30      0.38       188\n",
            "          {ROOMS#DESIGN&FEATURES, neutral}       0.00      0.00      0.00        29\n",
            "         {ROOMS#DESIGN&FEATURES, positive}       0.49      0.61      0.54       258\n",
            "                 {ROOMS#GENERAL, negative}       0.50      0.10      0.17        20\n",
            "                  {ROOMS#GENERAL, neutral}       0.00      0.00      0.00         2\n",
            "                 {ROOMS#GENERAL, positive}       0.35      0.09      0.14        66\n",
            "           {ROOMS#MISCELLANEOUS, negative}       0.00      0.00      0.00         5\n",
            "            {ROOMS#MISCELLANEOUS, neutral}       0.00      0.00      0.00         0\n",
            "           {ROOMS#MISCELLANEOUS, positive}       0.00      0.00      0.00         1\n",
            "                  {ROOMS#PRICES, negative}       0.00      0.00      0.00        16\n",
            "                   {ROOMS#PRICES, neutral}       0.00      0.00      0.00         0\n",
            "                  {ROOMS#PRICES, positive}       0.74      0.35      0.47        40\n",
            "                 {ROOMS#QUALITY, negative}       0.00      0.00      0.00         3\n",
            "                  {ROOMS#QUALITY, neutral}       0.00      0.00      0.00         0\n",
            "                 {ROOMS#QUALITY, positive}       0.00      0.00      0.00         3\n",
            "    {ROOM_AMENITIES#CLEANLINESS, negative}       0.50      0.03      0.05        36\n",
            "     {ROOM_AMENITIES#CLEANLINESS, neutral}       0.00      0.00      0.00         4\n",
            "    {ROOM_AMENITIES#CLEANLINESS, positive}       0.50      0.03      0.06        66\n",
            "        {ROOM_AMENITIES#COMFORT, negative}       0.80      0.05      0.10        77\n",
            "         {ROOM_AMENITIES#COMFORT, neutral}       0.00      0.00      0.00         7\n",
            "        {ROOM_AMENITIES#COMFORT, positive}       0.83      0.34      0.48       159\n",
            "{ROOM_AMENITIES#DESIGN&FEATURES, negative}       0.72      0.26      0.38       278\n",
            " {ROOM_AMENITIES#DESIGN&FEATURES, neutral}       0.00      0.00      0.00        28\n",
            "{ROOM_AMENITIES#DESIGN&FEATURES, positive}       0.28      0.17      0.21       111\n",
            "        {ROOM_AMENITIES#GENERAL, negative}       0.00      0.00      0.00        11\n",
            "         {ROOM_AMENITIES#GENERAL, neutral}       0.00      0.00      0.00         2\n",
            "        {ROOM_AMENITIES#GENERAL, positive}       0.58      0.49      0.53        57\n",
            "  {ROOM_AMENITIES#MISCELLANEOUS, negative}       0.00      0.00      0.00         0\n",
            "   {ROOM_AMENITIES#MISCELLANEOUS, neutral}       0.00      0.00      0.00         0\n",
            "  {ROOM_AMENITIES#MISCELLANEOUS, positive}       0.00      0.00      0.00         3\n",
            "         {ROOM_AMENITIES#PRICES, negative}       0.00      0.00      0.00         6\n",
            "          {ROOM_AMENITIES#PRICES, neutral}       0.00      0.00      0.00         0\n",
            "         {ROOM_AMENITIES#PRICES, positive}       0.00      0.00      0.00         1\n",
            "        {ROOM_AMENITIES#QUALITY, negative}       0.37      0.29      0.33        51\n",
            "         {ROOM_AMENITIES#QUALITY, neutral}       0.00      0.00      0.00         2\n",
            "        {ROOM_AMENITIES#QUALITY, positive}       0.25      0.04      0.07        69\n",
            "               {SERVICE#GENERAL, negative}       0.33      0.49      0.40       137\n",
            "                {SERVICE#GENERAL, neutral}       0.00      0.00      0.00        62\n",
            "               {SERVICE#GENERAL, positive}       0.92      0.84      0.87      1112\n",
            "\n",
            "                                 micro avg       0.67      0.48      0.56      7111\n",
            "                                 macro avg       0.25      0.13      0.14      7111\n",
            "                              weighted avg       0.62      0.48      0.50      7111\n",
            "                               samples avg       0.65      0.51      0.55      7111\n",
            "\n"
          ]
        }
      ]
    },
    {
      "cell_type": "markdown",
      "metadata": {
        "id": "jKmZvQH2f_zw"
      },
      "source": [
        "## 4.2 Test dataset"
      ]
    },
    {
      "cell_type": "code",
      "metadata": {
        "id": "4B6rGfxMf9JT"
      },
      "source": [
        "  y_test_pred_full = predict_full(X_test_aspect_tf)\n",
        "  y_test_pred_full = transform_label_SA.transform(y_test_pred_full)\n",
        "\n",
        "  _,_, y_test_true = pre_label.separate_label(y_test)\n",
        "  y_test_true = transform_label_SA.transform(y_test_true)\n"
      ],
      "execution_count": null,
      "outputs": []
    },
    {
      "cell_type": "code",
      "metadata": {
        "colab": {
          "base_uri": "https://localhost:8080/"
        },
        "id": "He5HXEaLf9Lg",
        "outputId": "be1da952-9ebf-4b87-c8ce-6fa3906960e3"
      },
      "source": [
        "print(classification_report(y_test_true,y_test_pred_full,target_names=list_label_SA))"
      ],
      "execution_count": null,
      "outputs": [
        {
          "output_type": "stream",
          "name": "stdout",
          "text": [
            "                                            precision    recall  f1-score   support\n",
            "\n",
            "        {FACILITIES#CLEANLINESS, negative}       0.00      0.00      0.00         3\n",
            "         {FACILITIES#CLEANLINESS, neutral}       0.00      0.00      0.00         0\n",
            "        {FACILITIES#CLEANLINESS, positive}       0.00      0.00      0.00         2\n",
            "            {FACILITIES#COMFORT, negative}       0.00      0.00      0.00         6\n",
            "             {FACILITIES#COMFORT, neutral}       0.00      0.00      0.00         0\n",
            "            {FACILITIES#COMFORT, positive}       0.00      0.00      0.00        20\n",
            "    {FACILITIES#DESIGN&FEATURES, negative}       0.00      0.00      0.00        22\n",
            "     {FACILITIES#DESIGN&FEATURES, neutral}       0.00      0.00      0.00         5\n",
            "    {FACILITIES#DESIGN&FEATURES, positive}       0.39      0.24      0.30        38\n",
            "            {FACILITIES#GENERAL, negative}       0.00      0.00      0.00         1\n",
            "             {FACILITIES#GENERAL, neutral}       0.00      0.00      0.00         1\n",
            "            {FACILITIES#GENERAL, positive}       0.75      0.16      0.26        19\n",
            "      {FACILITIES#MISCELLANEOUS, negative}       0.00      0.00      0.00         5\n",
            "       {FACILITIES#MISCELLANEOUS, neutral}       0.00      0.00      0.00         0\n",
            "      {FACILITIES#MISCELLANEOUS, positive}       0.00      0.00      0.00         3\n",
            "             {FACILITIES#PRICES, negative}       0.00      0.00      0.00         3\n",
            "              {FACILITIES#PRICES, neutral}       0.00      0.00      0.00         2\n",
            "             {FACILITIES#PRICES, positive}       0.00      0.00      0.00         8\n",
            "            {FACILITIES#QUALITY, negative}       1.00      0.08      0.15        25\n",
            "             {FACILITIES#QUALITY, neutral}       0.00      0.00      0.00         2\n",
            "            {FACILITIES#QUALITY, positive}       0.18      0.08      0.11        24\n",
            "     {FOOD&DRINKS#MISCELLANEOUS, negative}       0.00      0.00      0.00         2\n",
            "      {FOOD&DRINKS#MISCELLANEOUS, neutral}       0.00      0.00      0.00         0\n",
            "     {FOOD&DRINKS#MISCELLANEOUS, positive}       0.00      0.00      0.00         1\n",
            "            {FOOD&DRINKS#PRICES, negative}       0.00      0.00      0.00         3\n",
            "             {FOOD&DRINKS#PRICES, neutral}       0.00      0.00      0.00         0\n",
            "            {FOOD&DRINKS#PRICES, positive}       0.00      0.00      0.00         6\n",
            "           {FOOD&DRINKS#QUALITY, negative}       0.33      0.05      0.09        19\n",
            "            {FOOD&DRINKS#QUALITY, neutral}       0.00      0.00      0.00        14\n",
            "           {FOOD&DRINKS#QUALITY, positive}       0.67      0.81      0.73        96\n",
            "     {FOOD&DRINKS#STYLE&OPTIONS, negative}       0.84      0.21      0.34        75\n",
            "      {FOOD&DRINKS#STYLE&OPTIONS, neutral}       0.00      0.00      0.00         6\n",
            "     {FOOD&DRINKS#STYLE&OPTIONS, positive}       0.39      0.77      0.52        43\n",
            "             {HOTEL#CLEANLINESS, negative}       0.00      0.00      0.00         8\n",
            "              {HOTEL#CLEANLINESS, neutral}       0.00      0.00      0.00         0\n",
            "             {HOTEL#CLEANLINESS, positive}       0.52      0.53      0.52        59\n",
            "                 {HOTEL#COMFORT, negative}       0.00      0.00      0.00        13\n",
            "                  {HOTEL#COMFORT, neutral}       0.00      0.00      0.00         1\n",
            "                 {HOTEL#COMFORT, positive}       0.51      0.50      0.51        80\n",
            "         {HOTEL#DESIGN&FEATURES, negative}       0.00      0.00      0.00         8\n",
            "          {HOTEL#DESIGN&FEATURES, neutral}       0.00      0.00      0.00         3\n",
            "         {HOTEL#DESIGN&FEATURES, positive}       0.62      0.65      0.63        74\n",
            "                 {HOTEL#GENERAL, negative}       0.43      0.25      0.32        12\n",
            "                  {HOTEL#GENERAL, neutral}       0.00      0.00      0.00         4\n",
            "                 {HOTEL#GENERAL, positive}       0.80      0.61      0.69       135\n",
            "           {HOTEL#MISCELLANEOUS, negative}       0.00      0.00      0.00        34\n",
            "            {HOTEL#MISCELLANEOUS, neutral}       0.00      0.00      0.00         5\n",
            "           {HOTEL#MISCELLANEOUS, positive}       0.00      0.00      0.00        29\n",
            "                  {HOTEL#PRICES, negative}       0.00      0.00      0.00         6\n",
            "                   {HOTEL#PRICES, neutral}       0.00      0.00      0.00         2\n",
            "                  {HOTEL#PRICES, positive}       0.74      0.68      0.71        63\n",
            "                 {HOTEL#QUALITY, negative}       0.00      0.00      0.00         5\n",
            "                  {HOTEL#QUALITY, neutral}       0.00      0.00      0.00         1\n",
            "                 {HOTEL#QUALITY, positive}       0.17      0.14      0.15         7\n",
            "              {LOCATION#GENERAL, negative}       0.12      0.06      0.08        16\n",
            "               {LOCATION#GENERAL, neutral}       0.00      0.00      0.00        15\n",
            "              {LOCATION#GENERAL, positive}       0.82      0.83      0.82       190\n",
            "             {ROOMS#CLEANLINESS, negative}       0.43      0.22      0.29        27\n",
            "              {ROOMS#CLEANLINESS, neutral}       0.00      0.00      0.00         7\n",
            "             {ROOMS#CLEANLINESS, positive}       0.76      0.85      0.80       166\n",
            "                 {ROOMS#COMFORT, negative}       0.75      0.19      0.31        31\n",
            "                  {ROOMS#COMFORT, neutral}       0.00      0.00      0.00         2\n",
            "                 {ROOMS#COMFORT, positive}       0.49      0.45      0.47        60\n",
            "         {ROOMS#DESIGN&FEATURES, negative}       0.67      0.35      0.46        68\n",
            "          {ROOMS#DESIGN&FEATURES, neutral}       0.00      0.00      0.00        21\n",
            "         {ROOMS#DESIGN&FEATURES, positive}       0.55      0.62      0.59       109\n",
            "                 {ROOMS#GENERAL, negative}       0.00      0.00      0.00        10\n",
            "                  {ROOMS#GENERAL, neutral}       0.00      0.00      0.00         5\n",
            "                 {ROOMS#GENERAL, positive}       0.57      0.10      0.16        42\n",
            "           {ROOMS#MISCELLANEOUS, negative}       0.00      0.00      0.00         1\n",
            "            {ROOMS#MISCELLANEOUS, neutral}       0.00      0.00      0.00         1\n",
            "           {ROOMS#MISCELLANEOUS, positive}       0.00      0.00      0.00         2\n",
            "                  {ROOMS#PRICES, negative}       0.50      0.12      0.20         8\n",
            "                   {ROOMS#PRICES, neutral}       0.00      0.00      0.00         0\n",
            "                  {ROOMS#PRICES, positive}       1.00      0.14      0.25        21\n",
            "                 {ROOMS#QUALITY, negative}       0.00      0.00      0.00         2\n",
            "                  {ROOMS#QUALITY, neutral}       0.00      0.00      0.00         0\n",
            "                 {ROOMS#QUALITY, positive}       1.00      0.12      0.22         8\n",
            "    {ROOM_AMENITIES#CLEANLINESS, negative}       0.00      0.00      0.00        29\n",
            "     {ROOM_AMENITIES#CLEANLINESS, neutral}       0.00      0.00      0.00         0\n",
            "    {ROOM_AMENITIES#CLEANLINESS, positive}       0.00      0.00      0.00        17\n",
            "        {ROOM_AMENITIES#COMFORT, negative}       0.00      0.00      0.00        21\n",
            "         {ROOM_AMENITIES#COMFORT, neutral}       0.00      0.00      0.00         3\n",
            "        {ROOM_AMENITIES#COMFORT, positive}       0.80      0.27      0.41        44\n",
            "{ROOM_AMENITIES#DESIGN&FEATURES, negative}       0.68      0.24      0.35       106\n",
            " {ROOM_AMENITIES#DESIGN&FEATURES, neutral}       0.00      0.00      0.00         5\n",
            "{ROOM_AMENITIES#DESIGN&FEATURES, positive}       0.37      0.33      0.35        33\n",
            "        {ROOM_AMENITIES#GENERAL, negative}       0.00      0.00      0.00         1\n",
            "         {ROOM_AMENITIES#GENERAL, neutral}       0.00      0.00      0.00         0\n",
            "        {ROOM_AMENITIES#GENERAL, positive}       0.65      0.42      0.51        31\n",
            "  {ROOM_AMENITIES#MISCELLANEOUS, negative}       0.00      0.00      0.00         3\n",
            "   {ROOM_AMENITIES#MISCELLANEOUS, neutral}       0.00      0.00      0.00         0\n",
            "  {ROOM_AMENITIES#MISCELLANEOUS, positive}       0.00      0.00      0.00         0\n",
            "         {ROOM_AMENITIES#PRICES, negative}       0.00      0.00      0.00         1\n",
            "          {ROOM_AMENITIES#PRICES, neutral}       0.00      0.00      0.00         0\n",
            "         {ROOM_AMENITIES#PRICES, positive}       0.00      0.00      0.00         0\n",
            "        {ROOM_AMENITIES#QUALITY, negative}       0.29      0.19      0.23        32\n",
            "         {ROOM_AMENITIES#QUALITY, neutral}       0.00      0.00      0.00         0\n",
            "        {ROOM_AMENITIES#QUALITY, positive}       0.25      0.04      0.06        27\n",
            "               {SERVICE#GENERAL, negative}       0.36      0.69      0.47        39\n",
            "                {SERVICE#GENERAL, neutral}       0.00      0.00      0.00        28\n",
            "               {SERVICE#GENERAL, positive}       0.92      0.85      0.89       349\n",
            "\n",
            "                                 micro avg       0.67      0.47      0.55      2584\n",
            "                                 macro avg       0.20      0.13      0.14      2584\n",
            "                              weighted avg       0.58      0.47      0.49      2584\n",
            "                               samples avg       0.66      0.49      0.55      2584\n",
            "\n"
          ]
        }
      ]
    },
    {
      "cell_type": "markdown",
      "metadata": {
        "id": "L06e97YMjA2g"
      },
      "source": [
        "# 5. Predict for text file (.txt)"
      ]
    },
    {
      "cell_type": "markdown",
      "metadata": {
        "id": "z9NRvZLvjGit"
      },
      "source": [
        "## 5.1 Read file text"
      ]
    },
    {
      "cell_type": "code",
      "metadata": {
        "colab": {
          "base_uri": "https://localhost:8080/"
        },
        "id": "2Ibw9VrTZkgW",
        "outputId": "66d0548f-b6db-40cb-e8c1-d1af419340e8"
      },
      "source": [
        "path_file = \"/content/VLSP_Hotel_test.txt\"\n",
        "texts = read_data(path_file)\n",
        "print(len(texts))\n"
      ],
      "execution_count": null,
      "outputs": [
        {
          "output_type": "stream",
          "name": "stdout",
          "text": [
            "5\n"
          ]
        }
      ]
    },
    {
      "cell_type": "code",
      "metadata": {
        "colab": {
          "base_uri": "https://localhost:8080/"
        },
        "id": "m-xgo82okWH9",
        "outputId": "4332a74a-cf7a-4bbc-ca73-81c6293ed8f6"
      },
      "source": [
        "texts"
      ],
      "execution_count": null,
      "outputs": [
        {
          "output_type": "execute_result",
          "data": {
            "text/plain": [
              "[['Ga giường không sạch, nhân viên quên dọn phòng một ngày.'],\n",
              " ['Nv nhiệt tình, phòng ở sạch sẽ, tiện nghi, vị trí khá thuận tiện cho việc di chuyển đến các địa điểm ăn + chơi Phòng có gián'],\n",
              " ['Đi bộ ra biển gần, tiện đi lại Phòng view biển nhưng cửa sổ view biển khá bé'],\n",
              " ['Tất cả mọi thứ đều sạch sẽ, giường ngủ rất thoải mái. Không có quạt điện mà chỉ có điều hòa nên có chút bất tiện.'],\n",
              " ['Giường sạch sẽ, thoải mái, đầy đủ thiết bị cần thiết, ăn cũng trang bị sẵn nếu bạn lười Phòng tắm chưa chia được ko gian khô và ướt',\n",
              "  '']]"
            ]
          },
          "metadata": {},
          "execution_count": 210
        }
      ]
    },
    {
      "cell_type": "code",
      "metadata": {
        "id": "jbsPByUmkQOb"
      },
      "source": [
        "texts = [x[0] for x in texts]\n",
        "texts_preprocess = preprocessing.Preprocessing_Review(texts,\n",
        "                                              lower_text=True,\n",
        "                                              delete_emoji=True,\n",
        "                                              replace_symbol=True,\n",
        "                                              delete_special_character = True,\n",
        "                                              replace_negative_words=True,\n",
        "                                              normalize_elongate_words=True\n",
        "                                              ).process()\n",
        "texts_tf = TF_IDF.transform(texts_preprocess).toarray()"
      ],
      "execution_count": null,
      "outputs": []
    },
    {
      "cell_type": "markdown",
      "metadata": {
        "id": "RLBuN0ArjKlY"
      },
      "source": [
        "## 5.2 Predict"
      ]
    },
    {
      "cell_type": "code",
      "metadata": {
        "id": "DfEzMCgPZkmn"
      },
      "source": [
        "predicts = predict_full(texts_tf)\n",
        "file = open(\"file_predict.txt\",\"w\")\n",
        "with file as f:\n",
        "  for index,predict in enumerate(predicts):\n",
        "    f.write(\"#\"+str(index+1)+\"\\n\")\n",
        "    f.write(texts[index]+\"\\n\")\n",
        "    for i in predict:\n",
        "      f.write(i+\", \")\n",
        "    f.write(\"\\n\")\n",
        "f.close()"
      ],
      "execution_count": null,
      "outputs": []
    }
  ]
}